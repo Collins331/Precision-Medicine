{
 "cells": [
  {
   "cell_type": "markdown",
   "id": "f2ab2845",
   "metadata": {},
   "source": [
    "# Introduction to Genomics"
   ]
  },
  {
   "cell_type": "code",
   "execution_count": 4,
   "id": "50a98bfa",
   "metadata": {},
   "outputs": [],
   "source": [
    "# Tables you can query\n",
    "# ['default.g1000vcf_csv_int', 'default.g1000vcf_csv', 'default.g1000vcf_parquet', 'default.g1000vcf_partitioned']\n",
    "# COSMIC68 Annotation Dataset ['1000_genomes.hg19_cosmic68_int']\n",
    "# UCSC RefGene Annotation Dataset ['1000_genomes.hg19_ucsc_refgene_int']"
   ]
  },
  {
   "cell_type": "code",
   "execution_count": 5,
   "id": "3be2072d",
   "metadata": {},
   "outputs": [],
   "source": [
    "import sys\n",
    "import pyathena\n",
    "import pandas as pd\n",
    "from IPython import display\n",
    "\n",
    "\n",
    "conn = pyathena.connect(s3_staging_dir=\"s3://athena-output-351869726285/\", region_name='us-east-1', encryption_option='SSE_S3')"
   ]
  },
  {
   "cell_type": "markdown",
   "id": "ec58fb6a",
   "metadata": {},
   "source": [
    "# Query the 1000 Genomes Project Dataset"
   ]
  },
  {
   "cell_type": "code",
   "execution_count": 7,
   "id": "de75cf3e",
   "metadata": {},
   "outputs": [],
   "source": [
    "# pd.set_option('display.max_colwidth', None) # This code expands the table horizontally so that all table cells are visible.\n",
    "# pd.read_sql('SELECT * FROM default.g1000vcf_csv_int LIMIT 10', conn).head(10)"
   ]
  }
 ],
 "metadata": {
  "kernelspec": {
   "display_name": ".venv",
   "language": "python",
   "name": "python3"
  },
  "language_info": {
   "codemirror_mode": {
    "name": "ipython",
    "version": 3
   },
   "file_extension": ".py",
   "mimetype": "text/x-python",
   "name": "python",
   "nbconvert_exporter": "python",
   "pygments_lexer": "ipython3",
   "version": "3.13.3"
  }
 },
 "nbformat": 4,
 "nbformat_minor": 5
}
