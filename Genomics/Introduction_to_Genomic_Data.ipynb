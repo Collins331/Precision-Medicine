{
 "cells": [
  {
   "cell_type": "markdown",
   "id": "2b7faaa9",
   "metadata": {
    "id": "2b7faaa9"
   },
   "source": [
    "<img src=\"materials/images/introduction-to-genomic-data-cover.png\"/>"
   ]
  },
  {
   "cell_type": "markdown",
   "id": "369f5a20",
   "metadata": {
    "id": "369f5a20"
   },
   "source": [
    "# Introduction to Genomics"
   ]
  },
  {
   "cell_type": "markdown",
   "id": "42c9fc5f",
   "metadata": {
    "id": "42c9fc5f"
   },
   "source": [
    "Genomics is the branch of molecular biology concerned with the structure, function, evolution, and mapping of genomes.\n",
    "\n",
    "In this module, you will be learning about how to process and annotate **Variant Call Format (VCF)** file using Amazon Athena. The Variant Call Format specifies the format of a text file used in bioinformatics for storing gene sequence variations.\n",
    "\n",
    "The format has been developed with the advent of large-scale genotyping and DNA sequencing projects, such as the ***1000 Genomes Project***."
   ]
  },
  {
   "cell_type": "markdown",
   "id": "b3-PS1S-fdRS",
   "metadata": {
    "id": "b3-PS1S-fdRS"
   },
   "source": [
    "`🕒 This module should take about 30 minutes to complete.`\n",
    "\n",
    "`✍️ This notebook is written using Python.`"
   ]
  },
  {
   "cell_type": "markdown",
   "id": "QtKAV5AGYr5r",
   "metadata": {
    "id": "QtKAV5AGYr5r"
   },
   "source": [
    "<div class=\"alert alert-block alert-info\">\n",
    "<h3>⌨️ Keyboard shortcut</h3>\n",
    "\n",
    "These common shortcut could save your time going through this notebook:\n",
    "- Run the current cell: **`Enter + Shift`**.\n",
    "- Add a cell above the current cell: Press **`A`**.\n",
    "- Add a cell below the current cell: Press **`B`**.\n",
    "- Change a code cell to markdown cell: Select the cell, and then press **`M`**.\n",
    "- Delete a cell: Press **`D`** twice.\n",
    "\n",
    "Need more help with keyboard shortcut? Press **`H`** to look it up.\n",
    "</div>"
   ]
  },
  {
   "cell_type": "markdown",
   "id": "NQjI63DVgFU4",
   "metadata": {
    "id": "NQjI63DVgFU4"
   },
   "source": [
    "\n",
    "\n",
    "---\n"
   ]
  },
  {
   "cell_type": "code",
   "execution_count": 1,
   "id": "7162b246",
   "metadata": {
    "id": "7162b246"
   },
   "outputs": [],
   "source": [
    "# Tables you can query\n",
    "# ['default.g1000vcf_csv_int', 'default.g1000vcf_csv', 'default.g1000vcf_parquet', 'default.g1000vcf_partitioned']\n",
    "# COSMIC68 Annotation Dataset ['1000_genomes.hg19_cosmic68_int']\n",
    "# UCSC RefGene Annotation Dataset ['1000_genomes.hg19_ucsc_refgene_int']"
   ]
  },
  {
   "cell_type": "markdown",
   "id": "fbf6ab1f",
   "metadata": {
    "id": "fbf6ab1f"
   },
   "source": [
    "---"
   ]
  },
  {
   "cell_type": "markdown",
   "id": "a19b57dd",
   "metadata": {
    "id": "a19b57dd"
   },
   "source": [
    "# Initial Setup"
   ]
  },
  {
   "cell_type": "markdown",
   "id": "6a4285bd",
   "metadata": {
    "id": "6a4285bd"
   },
   "source": [
    "We'll use the PyAthena library to get access to a database stored in AWS S3. You can read more about PyAthena here:\n",
    "\n",
    "• https://pypi.org/project/pyathena/\n",
    "\n",
    "• https://aws.amazon.com/athena/?whats-new-cards.sort-by=item.additionalFields.postDateTime&whats-new-cards.sort-order=desc"
   ]
  },
  {
   "cell_type": "code",
   "execution_count": 2,
   "id": "bbf47a77",
   "metadata": {
    "id": "bbf47a77"
   },
   "outputs": [
    {
     "name": "stderr",
     "output_type": "stream",
     "text": [
      "/tmp/ipykernel_122/317448135.py:3: DeprecationWarning: \n",
      "Pyarrow will become a required dependency of pandas in the next major release of pandas (pandas 3.0),\n",
      "(to allow more performant data types, such as the Arrow string type, and better interoperability with other libraries)\n",
      "but was not found to be installed on your system.\n",
      "If this would cause problems for you,\n",
      "please provide us feedback at https://github.com/pandas-dev/pandas/issues/54466\n",
      "        \n",
      "  import pandas as pd\n"
     ]
    }
   ],
   "source": [
    "import sys\n",
    "import pyathena\n",
    "import pandas as pd\n",
    "\n",
    "from IPython import display\n",
    "\n",
    "conn = pyathena.connect(s3_staging_dir=\"s3://athena-output-351869726285/\", region_name='us-east-1', encryption_option='SSE_S3')"
   ]
  },
  {
   "cell_type": "markdown",
   "id": "7cd1ab4f",
   "metadata": {
    "id": "7cd1ab4f"
   },
   "source": [
    "---"
   ]
  },
  {
   "cell_type": "markdown",
   "id": "ba9e982b",
   "metadata": {
    "id": "ba9e982b"
   },
   "source": [
    "# Query the 1000 Genomes Project Dataset"
   ]
  },
  {
   "cell_type": "markdown",
   "id": "ccb28591",
   "metadata": {
    "id": "ccb28591"
   },
   "source": [
    "It's usually helpful to picture the data before performing any analysis, so we are going to import the database as the first step, and then view a few random rows."
   ]
  },
  {
   "cell_type": "markdown",
   "id": "0334839e",
   "metadata": {
    "id": "0334839e"
   },
   "source": [
    "<div class=\"alert alert-block alert-info\">\n",
    "<b>Tip:</b> If you are new to Jupyter Notebook, try run the code cell below using keyboard shortcut: \"Shift\" + \"Enter\". You could look up more keyboard shortcuts by pressing \"H\".\n",
    "</div>"
   ]
  },
  {
   "cell_type": "code",
   "execution_count": 3,
   "id": "e73bd98e",
   "metadata": {
    "id": "e73bd98e"
   },
   "outputs": [
    {
     "name": "stderr",
     "output_type": "stream",
     "text": [
      "/tmp/ipykernel_122/653230635.py:2: UserWarning: pandas only supports SQLAlchemy connectable (engine/connection) or database string URI or sqlite3 DBAPI2 connection. Other DBAPI2 objects are not tested. Please consider using SQLAlchemy.\n",
      "  pd.read_sql('SELECT * FROM default.g1000vcf_csv_int LIMIT 10', conn).head(10)\n"
     ]
    },
    {
     "data": {
      "text/html": [
       "<div>\n",
       "<style scoped>\n",
       "    .dataframe tbody tr th:only-of-type {\n",
       "        vertical-align: middle;\n",
       "    }\n",
       "\n",
       "    .dataframe tbody tr th {\n",
       "        vertical-align: top;\n",
       "    }\n",
       "\n",
       "    .dataframe thead th {\n",
       "        text-align: right;\n",
       "    }\n",
       "</style>\n",
       "<table border=\"1\" class=\"dataframe\">\n",
       "  <thead>\n",
       "    <tr style=\"text-align: right;\">\n",
       "      <th></th>\n",
       "      <th>chrm</th>\n",
       "      <th>start_position</th>\n",
       "      <th>end_position</th>\n",
       "      <th>reference_bases</th>\n",
       "      <th>alternate_bases</th>\n",
       "      <th>rsid</th>\n",
       "      <th>qual</th>\n",
       "      <th>filter</th>\n",
       "      <th>info</th>\n",
       "      <th>chromosome</th>\n",
       "    </tr>\n",
       "  </thead>\n",
       "  <tbody>\n",
       "    <tr>\n",
       "      <th>0</th>\n",
       "      <td>8</td>\n",
       "      <td>115304990</td>\n",
       "      <td>115304991</td>\n",
       "      <td>A</td>\n",
       "      <td>T</td>\n",
       "      <td>rs2132786</td>\n",
       "      <td>100</td>\n",
       "      <td>PASS</td>\n",
       "      <td>AC=3441;AF=0.687101;AN=5008;NS=2504;DP=15751;E...</td>\n",
       "      <td>8</td>\n",
       "    </tr>\n",
       "    <tr>\n",
       "      <th>1</th>\n",
       "      <td>8</td>\n",
       "      <td>115347125</td>\n",
       "      <td>115347126</td>\n",
       "      <td>A</td>\n",
       "      <td>T</td>\n",
       "      <td>rs566509966</td>\n",
       "      <td>100</td>\n",
       "      <td>PASS</td>\n",
       "      <td>AC=1;AF=0.000199681;AN=5008;NS=2504;DP=13884;E...</td>\n",
       "      <td>8</td>\n",
       "    </tr>\n",
       "    <tr>\n",
       "      <th>2</th>\n",
       "      <td>8</td>\n",
       "      <td>115432741</td>\n",
       "      <td>115432742</td>\n",
       "      <td>A</td>\n",
       "      <td>T</td>\n",
       "      <td>rs150484389</td>\n",
       "      <td>100</td>\n",
       "      <td>PASS</td>\n",
       "      <td>AC=13;AF=0.00259585;AN=5008;NS=2504;DP=18880;E...</td>\n",
       "      <td>8</td>\n",
       "    </tr>\n",
       "    <tr>\n",
       "      <th>3</th>\n",
       "      <td>8</td>\n",
       "      <td>115476289</td>\n",
       "      <td>115476290</td>\n",
       "      <td>A</td>\n",
       "      <td>T</td>\n",
       "      <td>rs536578282</td>\n",
       "      <td>100</td>\n",
       "      <td>PASS</td>\n",
       "      <td>AC=1;AF=0.000199681;AN=5008;NS=2504;DP=10646;E...</td>\n",
       "      <td>8</td>\n",
       "    </tr>\n",
       "    <tr>\n",
       "      <th>4</th>\n",
       "      <td>8</td>\n",
       "      <td>115523956</td>\n",
       "      <td>115523957</td>\n",
       "      <td>A</td>\n",
       "      <td>T</td>\n",
       "      <td>rs62543474</td>\n",
       "      <td>100</td>\n",
       "      <td>PASS</td>\n",
       "      <td>AC=442;AF=0.0882588;AN=5008;NS=2504;DP=16464;E...</td>\n",
       "      <td>8</td>\n",
       "    </tr>\n",
       "    <tr>\n",
       "      <th>5</th>\n",
       "      <td>8</td>\n",
       "      <td>115839770</td>\n",
       "      <td>115839771</td>\n",
       "      <td>A</td>\n",
       "      <td>T</td>\n",
       "      <td>rs554040155</td>\n",
       "      <td>100</td>\n",
       "      <td>PASS</td>\n",
       "      <td>AC=7;AF=0.00139776;AN=5008;NS=2504;DP=16320;EA...</td>\n",
       "      <td>8</td>\n",
       "    </tr>\n",
       "    <tr>\n",
       "      <th>6</th>\n",
       "      <td>8</td>\n",
       "      <td>115916679</td>\n",
       "      <td>115916680</td>\n",
       "      <td>A</td>\n",
       "      <td>T</td>\n",
       "      <td>rs78528851</td>\n",
       "      <td>100</td>\n",
       "      <td>PASS</td>\n",
       "      <td>AC=46;AF=0.0091853;AN=5008;NS=2504;DP=18382;EA...</td>\n",
       "      <td>8</td>\n",
       "    </tr>\n",
       "    <tr>\n",
       "      <th>7</th>\n",
       "      <td>8</td>\n",
       "      <td>115941532</td>\n",
       "      <td>115941533</td>\n",
       "      <td>A</td>\n",
       "      <td>T</td>\n",
       "      <td>rs6469559</td>\n",
       "      <td>100</td>\n",
       "      <td>PASS</td>\n",
       "      <td>AC=2107;AF=0.420727;AN=5008;NS=2504;DP=13006;E...</td>\n",
       "      <td>8</td>\n",
       "    </tr>\n",
       "    <tr>\n",
       "      <th>8</th>\n",
       "      <td>8</td>\n",
       "      <td>115960179</td>\n",
       "      <td>115960180</td>\n",
       "      <td>A</td>\n",
       "      <td>T</td>\n",
       "      <td>rs190204811</td>\n",
       "      <td>100</td>\n",
       "      <td>PASS</td>\n",
       "      <td>AC=12;AF=0.00239617;AN=5008;NS=2504;DP=11854;E...</td>\n",
       "      <td>8</td>\n",
       "    </tr>\n",
       "    <tr>\n",
       "      <th>9</th>\n",
       "      <td>8</td>\n",
       "      <td>116205208</td>\n",
       "      <td>116205209</td>\n",
       "      <td>A</td>\n",
       "      <td>T</td>\n",
       "      <td>rs184502983</td>\n",
       "      <td>100</td>\n",
       "      <td>PASS</td>\n",
       "      <td>AC=2;AF=0.000399361;AN=5008;NS=2504;DP=15165;E...</td>\n",
       "      <td>8</td>\n",
       "    </tr>\n",
       "  </tbody>\n",
       "</table>\n",
       "</div>"
      ],
      "text/plain": [
       "  chrm  start_position  end_position reference_bases alternate_bases  \\\n",
       "0    8       115304990     115304991               A               T   \n",
       "1    8       115347125     115347126               A               T   \n",
       "2    8       115432741     115432742               A               T   \n",
       "3    8       115476289     115476290               A               T   \n",
       "4    8       115523956     115523957               A               T   \n",
       "5    8       115839770     115839771               A               T   \n",
       "6    8       115916679     115916680               A               T   \n",
       "7    8       115941532     115941533               A               T   \n",
       "8    8       115960179     115960180               A               T   \n",
       "9    8       116205208     116205209               A               T   \n",
       "\n",
       "          rsid qual filter                                               info  \\\n",
       "0    rs2132786  100   PASS  AC=3441;AF=0.687101;AN=5008;NS=2504;DP=15751;E...   \n",
       "1  rs566509966  100   PASS  AC=1;AF=0.000199681;AN=5008;NS=2504;DP=13884;E...   \n",
       "2  rs150484389  100   PASS  AC=13;AF=0.00259585;AN=5008;NS=2504;DP=18880;E...   \n",
       "3  rs536578282  100   PASS  AC=1;AF=0.000199681;AN=5008;NS=2504;DP=10646;E...   \n",
       "4   rs62543474  100   PASS  AC=442;AF=0.0882588;AN=5008;NS=2504;DP=16464;E...   \n",
       "5  rs554040155  100   PASS  AC=7;AF=0.00139776;AN=5008;NS=2504;DP=16320;EA...   \n",
       "6   rs78528851  100   PASS  AC=46;AF=0.0091853;AN=5008;NS=2504;DP=18382;EA...   \n",
       "7    rs6469559  100   PASS  AC=2107;AF=0.420727;AN=5008;NS=2504;DP=13006;E...   \n",
       "8  rs190204811  100   PASS  AC=12;AF=0.00239617;AN=5008;NS=2504;DP=11854;E...   \n",
       "9  rs184502983  100   PASS  AC=2;AF=0.000399361;AN=5008;NS=2504;DP=15165;E...   \n",
       "\n",
       "  chromosome  \n",
       "0          8  \n",
       "1          8  \n",
       "2          8  \n",
       "3          8  \n",
       "4          8  \n",
       "5          8  \n",
       "6          8  \n",
       "7          8  \n",
       "8          8  \n",
       "9          8  "
      ]
     },
     "execution_count": 3,
     "metadata": {},
     "output_type": "execute_result"
    }
   ],
   "source": [
    "# pd.set_option('display.max_colwidth', None) # This code expands the table horizontally so that all table cells are visible.\n",
    "pd.read_sql('SELECT * FROM default.g1000vcf_csv_int LIMIT 10', conn).head(10)"
   ]
  },
  {
   "cell_type": "markdown",
   "id": "bac425fa",
   "metadata": {
    "id": "bac425fa"
   },
   "source": [
    "We will go through a few important columns for you to understand in the table above. If you want to dive deeper, you may find this document helpful:https://samtools.github.io/hts-specs/VCFv4.2.pdf\n",
    "\n",
    "1. `chrm` is the chromosome location.\n",
    "2. `start_position` is the start position of the DNA variant.\n",
    "3. `end_position` is the end position of the DNA variant.\n",
    "4. `reference_base` is the allele at a specific location in the reference genomes, which are considered as the \"approximated normal\".\n",
    "5. `alternate_base` is the allele that shows up at a specific location in the sample, but does not exist at the corresponding location in the reference genomes.\n",
    "6. `rsid` is the identification number of the SNPs (Single Nucleotide Polymorphism), see here: https://www.snpedia.com/index.php/SNPedia\n",
    "7. `qual` is the Phred-scaled quality score for the assertion made in ALT.\n",
    "8. `filter` indicates PASS when the position has passed all filters."
   ]
  },
  {
   "cell_type": "markdown",
   "id": "5f7d502e",
   "metadata": {
    "id": "5f7d502e"
   },
   "source": [
    "The `info` column explains additional information about the data. In the example below, we can tell the percentage of East Asian population who has `rs559815820` SNP is only **0.0399361%**. That is 2 alleles count out of 5008 alleles from 2504 samples in the ***1000 Genomes Project***. The percentage of East Asian population who has `rs559815820` SNP is **0.1%**."
   ]
  },
  {
   "cell_type": "markdown",
   "id": "f54bcd9b",
   "metadata": {
    "id": "f54bcd9b"
   },
   "source": [
    "<img src=\"materials/images/example-1.png\"/>"
   ]
  },
  {
   "cell_type": "markdown",
   "id": "c4e3a716",
   "metadata": {
    "id": "c4e3a716"
   },
   "source": [
    "Now, try to reference the explanation below about the additional information section. Select a SNP from the data you queried: How does this SNP present in the ethnic group you belong to, in comparison to other ethnic groups?\n",
    "\n",
    "1. `AC` stands for allele count in genotypes.\n",
    "2. `AF` stands for allele frequency. Note: allele frequency (AF) = allele count (AC)/ allele number (AN)\n",
    "3. `AN` stands for total number of alleles in genotypes.\n",
    "4. `NS` stands for number of samples with data.\n",
    "5. `EAS_AF` is the allele frequency of **East Asian population**.\n",
    "6. `AMR_AF` is the allele frequency of **Ad Mixed American population**.\n",
    "7. `EUR_AF` is the allele frequency of **European population**.\n",
    "8. `AFR_AF` is the allele frequency of **African population**.\n",
    "9. `SAS_AF` is the allele frequency of **South Asian population**."
   ]
  },
  {
   "cell_type": "markdown",
   "id": "2398b201",
   "metadata": {
    "id": "2398b201"
   },
   "source": [
    "---"
   ]
  },
  {
   "cell_type": "markdown",
   "id": "a0ba4728",
   "metadata": {
    "id": "a0ba4728"
   },
   "source": [
    "# Search for SNPs (Single Nucleotide Polymorphism)"
   ]
  },
  {
   "cell_type": "markdown",
   "id": "3b52cc1c",
   "metadata": {
    "id": "3b52cc1c"
   },
   "source": [
    "Next, pick a SNPs you are interested in investigating from this website: https://www.snpedia.com\n",
    "\n",
    "The website has SNPs associated with a wide range of phenotypes. You could start exploring the popular SNPs on the homepage.\n",
    "\n",
    "Here are a few examples:\n",
    "1. `rs53576` is highly associated with the ability to empathize with others.\n",
    "2. `rs72921001` is responsible for certain population's dislike towards the taste of cilantro.\n",
    "3. `rs28936679` is associated with sleep disorder.\n",
    "4. `rs1805009` is associated with skin cancer."
   ]
  },
  {
   "cell_type": "markdown",
   "id": "24111193",
   "metadata": {
    "id": "24111193"
   },
   "source": [
    "The example code below calls the data in the ***1000 Genomes Project*** that has `rs12913832`, see the code  ` WHERE rsid='rs12913832'`.\n",
    "\n",
    "`rs12913832` is the SNP associated with blue or brown eye color."
   ]
  },
  {
   "cell_type": "code",
   "execution_count": 4,
   "id": "c3ea6a0c",
   "metadata": {
    "id": "c3ea6a0c"
   },
   "outputs": [
    {
     "name": "stderr",
     "output_type": "stream",
     "text": [
      "/tmp/ipykernel_122/1831946132.py:2: UserWarning: pandas only supports SQLAlchemy connectable (engine/connection) or database string URI or sqlite3 DBAPI2 connection. Other DBAPI2 objects are not tested. Please consider using SQLAlchemy.\n",
      "  pd.read_sql(\"SELECT * FROM \\\"default\\\".g1000vcf_csv_int WHERE rsid='rs12913832'\", conn).head()\n"
     ]
    },
    {
     "data": {
      "text/html": [
       "<div>\n",
       "<style scoped>\n",
       "    .dataframe tbody tr th:only-of-type {\n",
       "        vertical-align: middle;\n",
       "    }\n",
       "\n",
       "    .dataframe tbody tr th {\n",
       "        vertical-align: top;\n",
       "    }\n",
       "\n",
       "    .dataframe thead th {\n",
       "        text-align: right;\n",
       "    }\n",
       "</style>\n",
       "<table border=\"1\" class=\"dataframe\">\n",
       "  <thead>\n",
       "    <tr style=\"text-align: right;\">\n",
       "      <th></th>\n",
       "      <th>chrm</th>\n",
       "      <th>start_position</th>\n",
       "      <th>end_position</th>\n",
       "      <th>reference_bases</th>\n",
       "      <th>alternate_bases</th>\n",
       "      <th>rsid</th>\n",
       "      <th>qual</th>\n",
       "      <th>filter</th>\n",
       "      <th>info</th>\n",
       "      <th>chromosome</th>\n",
       "    </tr>\n",
       "  </thead>\n",
       "  <tbody>\n",
       "    <tr>\n",
       "      <th>0</th>\n",
       "      <td>15</td>\n",
       "      <td>28365617</td>\n",
       "      <td>28365618</td>\n",
       "      <td>A</td>\n",
       "      <td>G</td>\n",
       "      <td>rs12913832</td>\n",
       "      <td>100</td>\n",
       "      <td>PASS</td>\n",
       "      <td>AC=888;AF=0.177316;AN=5008;NS=2504;DP=19161;EAS_AF=0.002;AMR_AF=0.2017;AFR_AF=0.028;EUR_AF=0.6362;SAS_AF=0.0706;AA=A|||;VT=SNP</td>\n",
       "      <td>15</td>\n",
       "    </tr>\n",
       "  </tbody>\n",
       "</table>\n",
       "</div>"
      ],
      "text/plain": [
       "  chrm  start_position  end_position reference_bases alternate_bases  \\\n",
       "0   15        28365617      28365618               A               G   \n",
       "\n",
       "         rsid qual filter  \\\n",
       "0  rs12913832  100   PASS   \n",
       "\n",
       "                                                                                                                             info  \\\n",
       "0  AC=888;AF=0.177316;AN=5008;NS=2504;DP=19161;EAS_AF=0.002;AMR_AF=0.2017;AFR_AF=0.028;EUR_AF=0.6362;SAS_AF=0.0706;AA=A|||;VT=SNP   \n",
       "\n",
       "  chromosome  \n",
       "0         15  "
      ]
     },
     "execution_count": 4,
     "metadata": {},
     "output_type": "execute_result"
    }
   ],
   "source": [
    "pd.set_option('display.max_colwidth', None) # This code expands the table horizontally so that all table cells are visible.\n",
    "pd.read_sql(\"SELECT * FROM \\\"default\\\".g1000vcf_csv_int WHERE rsid='rs12913832'\", conn).head()"
   ]
  },
  {
   "cell_type": "markdown",
   "id": "5d37f6ea",
   "metadata": {
    "id": "5d37f6ea"
   },
   "source": [
    "Does the result above make sense to you?\n",
    "\n",
    "We can see allele frequency of `rs12913832` among **Ad Mixed American** and **European** populations are 20.17% and 63.62% respectively, while only 0.2% among **East Asian** and 2.8% among **African** populations."
   ]
  },
  {
   "cell_type": "markdown",
   "id": "bbdffb00",
   "metadata": {
    "id": "bbdffb00"
   },
   "source": [
    "---"
   ]
  },
  {
   "cell_type": "markdown",
   "id": "8b582c80",
   "metadata": {
    "id": "8b582c80"
   },
   "source": [
    "# Query COSMIC68 Annotation Dataset (hg19)"
   ]
  },
  {
   "cell_type": "markdown",
   "id": "6ad07537",
   "metadata": {
    "id": "6ad07537"
   },
   "source": [
    "***COSMIC*** database is short for Catalogue of Somatic Mutations in Cancer [hg19 cosmic 68]. Learn more at\n",
    "https://cancer.sanger.ac.uk/cosmic.\n",
    "\n",
    "Now, let's take a look at few random rows of the ***COSMIC*** database:"
   ]
  },
  {
   "cell_type": "code",
   "execution_count": 5,
   "id": "f478a8c1",
   "metadata": {
    "id": "f478a8c1"
   },
   "outputs": [
    {
     "name": "stderr",
     "output_type": "stream",
     "text": [
      "/tmp/ipykernel_122/26311468.py:1: UserWarning: pandas only supports SQLAlchemy connectable (engine/connection) or database string URI or sqlite3 DBAPI2 connection. Other DBAPI2 objects are not tested. Please consider using SQLAlchemy.\n",
      "  pd.read_sql('SELECT * FROM \"1000_genomes\".hg19_cosmic68 LIMIT 10', conn).head(10)\n"
     ]
    },
    {
     "data": {
      "text/html": [
       "<div>\n",
       "<style scoped>\n",
       "    .dataframe tbody tr th:only-of-type {\n",
       "        vertical-align: middle;\n",
       "    }\n",
       "\n",
       "    .dataframe tbody tr th {\n",
       "        vertical-align: top;\n",
       "    }\n",
       "\n",
       "    .dataframe thead th {\n",
       "        text-align: right;\n",
       "    }\n",
       "</style>\n",
       "<table border=\"1\" class=\"dataframe\">\n",
       "  <thead>\n",
       "    <tr style=\"text-align: right;\">\n",
       "      <th></th>\n",
       "      <th>chrm</th>\n",
       "      <th>start_position</th>\n",
       "      <th>end_position</th>\n",
       "      <th>reference_bases</th>\n",
       "      <th>alternate_bases</th>\n",
       "      <th>cosmic_info</th>\n",
       "    </tr>\n",
       "  </thead>\n",
       "  <tbody>\n",
       "    <tr>\n",
       "      <th>0</th>\n",
       "      <td>7</td>\n",
       "      <td>158380272</td>\n",
       "      <td>158380274</td>\n",
       "      <td>CC</td>\n",
       "      <td>TT</td>\n",
       "      <td>ID=COSM225618;OCCURENCE=1(NS)</td>\n",
       "    </tr>\n",
       "    <tr>\n",
       "      <th>1</th>\n",
       "      <td>8</td>\n",
       "      <td>24365021</td>\n",
       "      <td>24365023</td>\n",
       "      <td>CG</td>\n",
       "      <td>TC</td>\n",
       "      <td>ID=COSM1552549;OCCURENCE=1(lung)</td>\n",
       "    </tr>\n",
       "    <tr>\n",
       "      <th>2</th>\n",
       "      <td>9</td>\n",
       "      <td>5078357</td>\n",
       "      <td>5078360</td>\n",
       "      <td>TCA</td>\n",
       "      <td>GAG</td>\n",
       "      <td>ID=COSM214344;OCCURENCE=1(haematopoietic_and_lymphoid_tissue)</td>\n",
       "    </tr>\n",
       "    <tr>\n",
       "      <th>3</th>\n",
       "      <td>9</td>\n",
       "      <td>32632456</td>\n",
       "      <td>32632458</td>\n",
       "      <td>GG</td>\n",
       "      <td>TT</td>\n",
       "      <td>ID=COSM354681;OCCURENCE=1(lung)</td>\n",
       "    </tr>\n",
       "    <tr>\n",
       "      <th>4</th>\n",
       "      <td>20</td>\n",
       "      <td>34775607</td>\n",
       "      <td>34775609</td>\n",
       "      <td>CC</td>\n",
       "      <td>TT</td>\n",
       "      <td>ID=COSM1713410;OCCURENCE=1(skin)</td>\n",
       "    </tr>\n",
       "    <tr>\n",
       "      <th>5</th>\n",
       "      <td>20</td>\n",
       "      <td>44678349</td>\n",
       "      <td>44678351</td>\n",
       "      <td>GG</td>\n",
       "      <td>AA</td>\n",
       "      <td>ID=COSM1713574;OCCURENCE=1(skin)</td>\n",
       "    </tr>\n",
       "    <tr>\n",
       "      <th>6</th>\n",
       "      <td>20</td>\n",
       "      <td>48231208</td>\n",
       "      <td>48231210</td>\n",
       "      <td>CT</td>\n",
       "      <td>TC</td>\n",
       "      <td>ID=COSN42697;OCCURENCE=1(central_nervous_system)</td>\n",
       "    </tr>\n",
       "    <tr>\n",
       "      <th>7</th>\n",
       "      <td>9</td>\n",
       "      <td>71094387</td>\n",
       "      <td>71094389</td>\n",
       "      <td>CC</td>\n",
       "      <td>TT</td>\n",
       "      <td>ID=COSM1701102;OCCURENCE=1(skin)</td>\n",
       "    </tr>\n",
       "    <tr>\n",
       "      <th>8</th>\n",
       "      <td>9</td>\n",
       "      <td>98221989</td>\n",
       "      <td>98221991</td>\n",
       "      <td>CC</td>\n",
       "      <td>TT</td>\n",
       "      <td>ID=COSM14463;OCCURENCE=2(skin)</td>\n",
       "    </tr>\n",
       "    <tr>\n",
       "      <th>9</th>\n",
       "      <td>21</td>\n",
       "      <td>37833905</td>\n",
       "      <td>37833907</td>\n",
       "      <td>AG</td>\n",
       "      <td>TT</td>\n",
       "      <td>ID=COSM310129;OCCURENCE=1(lung)</td>\n",
       "    </tr>\n",
       "  </tbody>\n",
       "</table>\n",
       "</div>"
      ],
      "text/plain": [
       "  chrm start_position end_position reference_bases alternate_bases  \\\n",
       "0    7      158380272    158380274              CC              TT   \n",
       "1    8       24365021     24365023              CG              TC   \n",
       "2    9        5078357      5078360             TCA             GAG   \n",
       "3    9       32632456     32632458              GG              TT   \n",
       "4   20       34775607     34775609              CC              TT   \n",
       "5   20       44678349     44678351              GG              AA   \n",
       "6   20       48231208     48231210              CT              TC   \n",
       "7    9       71094387     71094389              CC              TT   \n",
       "8    9       98221989     98221991              CC              TT   \n",
       "9   21       37833905     37833907              AG              TT   \n",
       "\n",
       "                                                     cosmic_info  \n",
       "0                                  ID=COSM225618;OCCURENCE=1(NS)  \n",
       "1                               ID=COSM1552549;OCCURENCE=1(lung)  \n",
       "2  ID=COSM214344;OCCURENCE=1(haematopoietic_and_lymphoid_tissue)  \n",
       "3                                ID=COSM354681;OCCURENCE=1(lung)  \n",
       "4                               ID=COSM1713410;OCCURENCE=1(skin)  \n",
       "5                               ID=COSM1713574;OCCURENCE=1(skin)  \n",
       "6               ID=COSN42697;OCCURENCE=1(central_nervous_system)  \n",
       "7                               ID=COSM1701102;OCCURENCE=1(skin)  \n",
       "8                                 ID=COSM14463;OCCURENCE=2(skin)  \n",
       "9                                ID=COSM310129;OCCURENCE=1(lung)  "
      ]
     },
     "execution_count": 5,
     "metadata": {},
     "output_type": "execute_result"
    }
   ],
   "source": [
    "pd.read_sql('SELECT * FROM \"1000_genomes\".hg19_cosmic68 LIMIT 10', conn).head(10)"
   ]
  },
  {
   "cell_type": "markdown",
   "id": "5b2ad8c8",
   "metadata": {
    "id": "5b2ad8c8"
   },
   "source": [
    "Like previous datasets, we see the chromosome location, start and end positions in DNA sequence, reference allele and alternate allele.\n",
    "\n",
    "The `cosmic_info` column tells us the types of cancer and mutation occurence."
   ]
  },
  {
   "cell_type": "markdown",
   "id": "96341538",
   "metadata": {
    "id": "96341538"
   },
   "source": [
    "---"
   ]
  },
  {
   "cell_type": "markdown",
   "id": "01e279ff",
   "metadata": {
    "id": "01e279ff"
   },
   "source": [
    "# Query UCSC RefGene Annotation Dataset (hg19)"
   ]
  },
  {
   "cell_type": "markdown",
   "id": "180c4f78",
   "metadata": {
    "id": "180c4f78"
   },
   "source": [
    "The NCBI RefSeq Genes composite track shows human protein-coding and non-protein-coding genes taken from the NCBI RNA reference sequences collection (RefSeq) [hg19 refGene]. You could learn more at the following:\n",
    "- https://hgdownload.cse.ucsc.edu/goldenPath/hg19/database/\n",
    "- https://genome.ucsc.edu/cgi-bin/hgTables?db=hg19&hgta_group=genes&hgta_track=refSeqComposite&hgta_table=refGene&hgta_doSchema=describe+table+schema (Schema for NCBI RefSeq - RefSeq genes from NCBI)"
   ]
  },
  {
   "cell_type": "markdown",
   "id": "bde31319",
   "metadata": {
    "id": "bde31319"
   },
   "source": [
    "<img src=\"materials/images/genetic-mutations.png\"/>"
   ]
  },
  {
   "cell_type": "markdown",
   "id": "3440eed7",
   "metadata": {
    "id": "3440eed7"
   },
   "source": [
    "Now, let's take a look at random rows of the dataset:"
   ]
  },
  {
   "cell_type": "code",
   "execution_count": 6,
   "id": "2898afc2",
   "metadata": {
    "id": "2898afc2"
   },
   "outputs": [
    {
     "name": "stderr",
     "output_type": "stream",
     "text": [
      "/tmp/ipykernel_122/730593987.py:1: UserWarning: pandas only supports SQLAlchemy connectable (engine/connection) or database string URI or sqlite3 DBAPI2 connection. Other DBAPI2 objects are not tested. Please consider using SQLAlchemy.\n",
      "  pd.read_sql('SELECT * FROM \"1000_genomes\".hg19_ucsc_refgene_int LIMIT 10', conn).head(10)\n"
     ]
    },
    {
     "data": {
      "text/html": [
       "<div>\n",
       "<style scoped>\n",
       "    .dataframe tbody tr th:only-of-type {\n",
       "        vertical-align: middle;\n",
       "    }\n",
       "\n",
       "    .dataframe tbody tr th {\n",
       "        vertical-align: top;\n",
       "    }\n",
       "\n",
       "    .dataframe thead th {\n",
       "        text-align: right;\n",
       "    }\n",
       "</style>\n",
       "<table border=\"1\" class=\"dataframe\">\n",
       "  <thead>\n",
       "    <tr style=\"text-align: right;\">\n",
       "      <th></th>\n",
       "      <th>chrm</th>\n",
       "      <th>start_position</th>\n",
       "      <th>end_position</th>\n",
       "      <th>bin</th>\n",
       "      <th>name</th>\n",
       "      <th>strand</th>\n",
       "      <th>cdsstart</th>\n",
       "      <th>cdsend</th>\n",
       "      <th>exoncount</th>\n",
       "      <th>exonstarts</th>\n",
       "      <th>exonends</th>\n",
       "      <th>score</th>\n",
       "      <th>name2</th>\n",
       "      <th>cdsstartstat</th>\n",
       "      <th>cdsendstat</th>\n",
       "      <th>exonframes</th>\n",
       "    </tr>\n",
       "  </thead>\n",
       "  <tbody>\n",
       "    <tr>\n",
       "      <th>0</th>\n",
       "      <td>8</td>\n",
       "      <td>48773459</td>\n",
       "      <td>48773532</td>\n",
       "      <td>119</td>\n",
       "      <td>NM_006904</td>\n",
       "      <td>-</td>\n",
       "      <td>48686733</td>\n",
       "      <td>48872686</td>\n",
       "      <td>86</td>\n",
       "      <td>48685668,48689404,48690246,48691019,48691288,48691564,48694722,48694938,48696302,48697673,48701466,48701711,48706850,48710797,48711770,48713353,48715866,48719697,48730010,48731962,48733279,48734164,48736418,48739216,48740728,48743165,48744374,48746756,48748898,48749772,48751708,48752576,48761714,48761939,48765233,48766643,48767782,48769716,48771076,48771409,48772171,48773459,48774622,48774933,48775959,48777116,48790284,48792051,48793976,48794472,48798504,48800107,48801078,48801574,48802817,48805699,48809720,48811029,48812932,48815128,48817428,48824969,48826460,48827887,48830836,48839753,48840330,48841651,48842412,48843231,48845579,48846524,48847568,48848291,48848912,48852110,48855768,48856412,48856533,48866179,48866366,48866897,48868433,48869730,48869914,48872532,</td>\n",
       "      <td>48686938,48689544,48690435,48691221,48691360,48691654,48694815,48695159,48696370,48697878,48701610,48701799,48707062,48710958,48711951,48713547,48716041,48719887,48730122,48732071,48733504,48734353,48736557,48739422,48740908,48743297,48744487,48746957,48749088,48749980,48751807,48752750,48761864,48762064,48765345,48766775,48767934,48769860,48771196,48771547,48772320,48773532,48774688,48775102,48776138,48777324,48790412,48792219,48794081,48794658,48798708,48800266,48801211,48801783,48803041,48805947,48809854,48811129,48813027,48815355,48817536,48825122,48826624,48827978,48830943,48839913,48840450,48841738,48842572,48843347,48845732,48846650,48847618,48848460,48849077,48852257,48855926,48856443,48856589,48866279,48866479,48867006,48868508,48869823,48869991,48872743,</td>\n",
       "      <td>0</td>\n",
       "      <td>PRKDC</td>\n",
       "      <td>cmpl</td>\n",
       "      <td>cmpl</td>\n",
       "      <td>2,0,0,2,2,2,2,0,1,0,0,2,0,1,0,1,0,2,1,0,0,0,2,0,0,0,1,1,0,2,2,2,2,0,2,2,0,0,0,0,1,0,0,2,0,2,0,0,0,0,0,0,2,0,1,1,2,1,2,0,0,0,1,0,1,0,0,0,2,0,0,0,1,0,0,0,1,0,1,0,1,0,0,0,1,0,</td>\n",
       "    </tr>\n",
       "    <tr>\n",
       "      <th>1</th>\n",
       "      <td>8</td>\n",
       "      <td>48774622</td>\n",
       "      <td>48774688</td>\n",
       "      <td>119</td>\n",
       "      <td>NM_006904</td>\n",
       "      <td>-</td>\n",
       "      <td>48686733</td>\n",
       "      <td>48872686</td>\n",
       "      <td>86</td>\n",
       "      <td>48685668,48689404,48690246,48691019,48691288,48691564,48694722,48694938,48696302,48697673,48701466,48701711,48706850,48710797,48711770,48713353,48715866,48719697,48730010,48731962,48733279,48734164,48736418,48739216,48740728,48743165,48744374,48746756,48748898,48749772,48751708,48752576,48761714,48761939,48765233,48766643,48767782,48769716,48771076,48771409,48772171,48773459,48774622,48774933,48775959,48777116,48790284,48792051,48793976,48794472,48798504,48800107,48801078,48801574,48802817,48805699,48809720,48811029,48812932,48815128,48817428,48824969,48826460,48827887,48830836,48839753,48840330,48841651,48842412,48843231,48845579,48846524,48847568,48848291,48848912,48852110,48855768,48856412,48856533,48866179,48866366,48866897,48868433,48869730,48869914,48872532,</td>\n",
       "      <td>48686938,48689544,48690435,48691221,48691360,48691654,48694815,48695159,48696370,48697878,48701610,48701799,48707062,48710958,48711951,48713547,48716041,48719887,48730122,48732071,48733504,48734353,48736557,48739422,48740908,48743297,48744487,48746957,48749088,48749980,48751807,48752750,48761864,48762064,48765345,48766775,48767934,48769860,48771196,48771547,48772320,48773532,48774688,48775102,48776138,48777324,48790412,48792219,48794081,48794658,48798708,48800266,48801211,48801783,48803041,48805947,48809854,48811129,48813027,48815355,48817536,48825122,48826624,48827978,48830943,48839913,48840450,48841738,48842572,48843347,48845732,48846650,48847618,48848460,48849077,48852257,48855926,48856443,48856589,48866279,48866479,48867006,48868508,48869823,48869991,48872743,</td>\n",
       "      <td>0</td>\n",
       "      <td>PRKDC</td>\n",
       "      <td>cmpl</td>\n",
       "      <td>cmpl</td>\n",
       "      <td>2,0,0,2,2,2,2,0,1,0,0,2,0,1,0,1,0,2,1,0,0,0,2,0,0,0,1,1,0,2,2,2,2,0,2,2,0,0,0,0,1,0,0,2,0,2,0,0,0,0,0,0,2,0,1,1,2,1,2,0,0,0,1,0,1,0,0,0,2,0,0,0,1,0,0,0,1,0,1,0,1,0,0,0,1,0,</td>\n",
       "    </tr>\n",
       "    <tr>\n",
       "      <th>2</th>\n",
       "      <td>8</td>\n",
       "      <td>48790284</td>\n",
       "      <td>48790412</td>\n",
       "      <td>119</td>\n",
       "      <td>NM_006904</td>\n",
       "      <td>-</td>\n",
       "      <td>48686733</td>\n",
       "      <td>48872686</td>\n",
       "      <td>86</td>\n",
       "      <td>48685668,48689404,48690246,48691019,48691288,48691564,48694722,48694938,48696302,48697673,48701466,48701711,48706850,48710797,48711770,48713353,48715866,48719697,48730010,48731962,48733279,48734164,48736418,48739216,48740728,48743165,48744374,48746756,48748898,48749772,48751708,48752576,48761714,48761939,48765233,48766643,48767782,48769716,48771076,48771409,48772171,48773459,48774622,48774933,48775959,48777116,48790284,48792051,48793976,48794472,48798504,48800107,48801078,48801574,48802817,48805699,48809720,48811029,48812932,48815128,48817428,48824969,48826460,48827887,48830836,48839753,48840330,48841651,48842412,48843231,48845579,48846524,48847568,48848291,48848912,48852110,48855768,48856412,48856533,48866179,48866366,48866897,48868433,48869730,48869914,48872532,</td>\n",
       "      <td>48686938,48689544,48690435,48691221,48691360,48691654,48694815,48695159,48696370,48697878,48701610,48701799,48707062,48710958,48711951,48713547,48716041,48719887,48730122,48732071,48733504,48734353,48736557,48739422,48740908,48743297,48744487,48746957,48749088,48749980,48751807,48752750,48761864,48762064,48765345,48766775,48767934,48769860,48771196,48771547,48772320,48773532,48774688,48775102,48776138,48777324,48790412,48792219,48794081,48794658,48798708,48800266,48801211,48801783,48803041,48805947,48809854,48811129,48813027,48815355,48817536,48825122,48826624,48827978,48830943,48839913,48840450,48841738,48842572,48843347,48845732,48846650,48847618,48848460,48849077,48852257,48855926,48856443,48856589,48866279,48866479,48867006,48868508,48869823,48869991,48872743,</td>\n",
       "      <td>0</td>\n",
       "      <td>PRKDC</td>\n",
       "      <td>cmpl</td>\n",
       "      <td>cmpl</td>\n",
       "      <td>2,0,0,2,2,2,2,0,1,0,0,2,0,1,0,1,0,2,1,0,0,0,2,0,0,0,1,1,0,2,2,2,2,0,2,2,0,0,0,0,1,0,0,2,0,2,0,0,0,0,0,0,2,0,1,1,2,1,2,0,0,0,1,0,1,0,0,0,2,0,0,0,1,0,0,0,1,0,1,0,1,0,0,0,1,0,</td>\n",
       "    </tr>\n",
       "    <tr>\n",
       "      <th>3</th>\n",
       "      <td>8</td>\n",
       "      <td>48866179</td>\n",
       "      <td>48866279</td>\n",
       "      <td>119</td>\n",
       "      <td>NM_006904</td>\n",
       "      <td>-</td>\n",
       "      <td>48686733</td>\n",
       "      <td>48872686</td>\n",
       "      <td>86</td>\n",
       "      <td>48685668,48689404,48690246,48691019,48691288,48691564,48694722,48694938,48696302,48697673,48701466,48701711,48706850,48710797,48711770,48713353,48715866,48719697,48730010,48731962,48733279,48734164,48736418,48739216,48740728,48743165,48744374,48746756,48748898,48749772,48751708,48752576,48761714,48761939,48765233,48766643,48767782,48769716,48771076,48771409,48772171,48773459,48774622,48774933,48775959,48777116,48790284,48792051,48793976,48794472,48798504,48800107,48801078,48801574,48802817,48805699,48809720,48811029,48812932,48815128,48817428,48824969,48826460,48827887,48830836,48839753,48840330,48841651,48842412,48843231,48845579,48846524,48847568,48848291,48848912,48852110,48855768,48856412,48856533,48866179,48866366,48866897,48868433,48869730,48869914,48872532,</td>\n",
       "      <td>48686938,48689544,48690435,48691221,48691360,48691654,48694815,48695159,48696370,48697878,48701610,48701799,48707062,48710958,48711951,48713547,48716041,48719887,48730122,48732071,48733504,48734353,48736557,48739422,48740908,48743297,48744487,48746957,48749088,48749980,48751807,48752750,48761864,48762064,48765345,48766775,48767934,48769860,48771196,48771547,48772320,48773532,48774688,48775102,48776138,48777324,48790412,48792219,48794081,48794658,48798708,48800266,48801211,48801783,48803041,48805947,48809854,48811129,48813027,48815355,48817536,48825122,48826624,48827978,48830943,48839913,48840450,48841738,48842572,48843347,48845732,48846650,48847618,48848460,48849077,48852257,48855926,48856443,48856589,48866279,48866479,48867006,48868508,48869823,48869991,48872743,</td>\n",
       "      <td>0</td>\n",
       "      <td>PRKDC</td>\n",
       "      <td>cmpl</td>\n",
       "      <td>cmpl</td>\n",
       "      <td>2,0,0,2,2,2,2,0,1,0,0,2,0,1,0,1,0,2,1,0,0,0,2,0,0,0,1,1,0,2,2,2,2,0,2,2,0,0,0,0,1,0,0,2,0,2,0,0,0,0,0,0,2,0,1,1,2,1,2,0,0,0,1,0,1,0,0,0,2,0,0,0,1,0,0,0,1,0,1,0,1,0,0,0,1,0,</td>\n",
       "    </tr>\n",
       "    <tr>\n",
       "      <th>4</th>\n",
       "      <td>8</td>\n",
       "      <td>48691288</td>\n",
       "      <td>48691360</td>\n",
       "      <td>119</td>\n",
       "      <td>NM_006904</td>\n",
       "      <td>-</td>\n",
       "      <td>48686733</td>\n",
       "      <td>48872686</td>\n",
       "      <td>86</td>\n",
       "      <td>48685668,48689404,48690246,48691019,48691288,48691564,48694722,48694938,48696302,48697673,48701466,48701711,48706850,48710797,48711770,48713353,48715866,48719697,48730010,48731962,48733279,48734164,48736418,48739216,48740728,48743165,48744374,48746756,48748898,48749772,48751708,48752576,48761714,48761939,48765233,48766643,48767782,48769716,48771076,48771409,48772171,48773459,48774622,48774933,48775959,48777116,48790284,48792051,48793976,48794472,48798504,48800107,48801078,48801574,48802817,48805699,48809720,48811029,48812932,48815128,48817428,48824969,48826460,48827887,48830836,48839753,48840330,48841651,48842412,48843231,48845579,48846524,48847568,48848291,48848912,48852110,48855768,48856412,48856533,48866179,48866366,48866897,48868433,48869730,48869914,48872532,</td>\n",
       "      <td>48686938,48689544,48690435,48691221,48691360,48691654,48694815,48695159,48696370,48697878,48701610,48701799,48707062,48710958,48711951,48713547,48716041,48719887,48730122,48732071,48733504,48734353,48736557,48739422,48740908,48743297,48744487,48746957,48749088,48749980,48751807,48752750,48761864,48762064,48765345,48766775,48767934,48769860,48771196,48771547,48772320,48773532,48774688,48775102,48776138,48777324,48790412,48792219,48794081,48794658,48798708,48800266,48801211,48801783,48803041,48805947,48809854,48811129,48813027,48815355,48817536,48825122,48826624,48827978,48830943,48839913,48840450,48841738,48842572,48843347,48845732,48846650,48847618,48848460,48849077,48852257,48855926,48856443,48856589,48866279,48866479,48867006,48868508,48869823,48869991,48872743,</td>\n",
       "      <td>0</td>\n",
       "      <td>PRKDC</td>\n",
       "      <td>cmpl</td>\n",
       "      <td>cmpl</td>\n",
       "      <td>2,0,0,2,2,2,2,0,1,0,0,2,0,1,0,1,0,2,1,0,0,0,2,0,0,0,1,1,0,2,2,2,2,0,2,2,0,0,0,0,1,0,0,2,0,2,0,0,0,0,0,0,2,0,1,1,2,1,2,0,0,0,1,0,1,0,0,0,2,0,0,0,1,0,0,0,1,0,1,0,1,0,0,0,1,0,</td>\n",
       "    </tr>\n",
       "    <tr>\n",
       "      <th>5</th>\n",
       "      <td>8</td>\n",
       "      <td>48711770</td>\n",
       "      <td>48711951</td>\n",
       "      <td>119</td>\n",
       "      <td>NM_006904</td>\n",
       "      <td>-</td>\n",
       "      <td>48686733</td>\n",
       "      <td>48872686</td>\n",
       "      <td>86</td>\n",
       "      <td>48685668,48689404,48690246,48691019,48691288,48691564,48694722,48694938,48696302,48697673,48701466,48701711,48706850,48710797,48711770,48713353,48715866,48719697,48730010,48731962,48733279,48734164,48736418,48739216,48740728,48743165,48744374,48746756,48748898,48749772,48751708,48752576,48761714,48761939,48765233,48766643,48767782,48769716,48771076,48771409,48772171,48773459,48774622,48774933,48775959,48777116,48790284,48792051,48793976,48794472,48798504,48800107,48801078,48801574,48802817,48805699,48809720,48811029,48812932,48815128,48817428,48824969,48826460,48827887,48830836,48839753,48840330,48841651,48842412,48843231,48845579,48846524,48847568,48848291,48848912,48852110,48855768,48856412,48856533,48866179,48866366,48866897,48868433,48869730,48869914,48872532,</td>\n",
       "      <td>48686938,48689544,48690435,48691221,48691360,48691654,48694815,48695159,48696370,48697878,48701610,48701799,48707062,48710958,48711951,48713547,48716041,48719887,48730122,48732071,48733504,48734353,48736557,48739422,48740908,48743297,48744487,48746957,48749088,48749980,48751807,48752750,48761864,48762064,48765345,48766775,48767934,48769860,48771196,48771547,48772320,48773532,48774688,48775102,48776138,48777324,48790412,48792219,48794081,48794658,48798708,48800266,48801211,48801783,48803041,48805947,48809854,48811129,48813027,48815355,48817536,48825122,48826624,48827978,48830943,48839913,48840450,48841738,48842572,48843347,48845732,48846650,48847618,48848460,48849077,48852257,48855926,48856443,48856589,48866279,48866479,48867006,48868508,48869823,48869991,48872743,</td>\n",
       "      <td>0</td>\n",
       "      <td>PRKDC</td>\n",
       "      <td>cmpl</td>\n",
       "      <td>cmpl</td>\n",
       "      <td>2,0,0,2,2,2,2,0,1,0,0,2,0,1,0,1,0,2,1,0,0,0,2,0,0,0,1,1,0,2,2,2,2,0,2,2,0,0,0,0,1,0,0,2,0,2,0,0,0,0,0,0,2,0,1,1,2,1,2,0,0,0,1,0,1,0,0,0,2,0,0,0,1,0,0,0,1,0,1,0,1,0,0,0,1,0,</td>\n",
       "    </tr>\n",
       "    <tr>\n",
       "      <th>6</th>\n",
       "      <td>8</td>\n",
       "      <td>48761714</td>\n",
       "      <td>48761864</td>\n",
       "      <td>119</td>\n",
       "      <td>NM_006904</td>\n",
       "      <td>-</td>\n",
       "      <td>48686733</td>\n",
       "      <td>48872686</td>\n",
       "      <td>86</td>\n",
       "      <td>48685668,48689404,48690246,48691019,48691288,48691564,48694722,48694938,48696302,48697673,48701466,48701711,48706850,48710797,48711770,48713353,48715866,48719697,48730010,48731962,48733279,48734164,48736418,48739216,48740728,48743165,48744374,48746756,48748898,48749772,48751708,48752576,48761714,48761939,48765233,48766643,48767782,48769716,48771076,48771409,48772171,48773459,48774622,48774933,48775959,48777116,48790284,48792051,48793976,48794472,48798504,48800107,48801078,48801574,48802817,48805699,48809720,48811029,48812932,48815128,48817428,48824969,48826460,48827887,48830836,48839753,48840330,48841651,48842412,48843231,48845579,48846524,48847568,48848291,48848912,48852110,48855768,48856412,48856533,48866179,48866366,48866897,48868433,48869730,48869914,48872532,</td>\n",
       "      <td>48686938,48689544,48690435,48691221,48691360,48691654,48694815,48695159,48696370,48697878,48701610,48701799,48707062,48710958,48711951,48713547,48716041,48719887,48730122,48732071,48733504,48734353,48736557,48739422,48740908,48743297,48744487,48746957,48749088,48749980,48751807,48752750,48761864,48762064,48765345,48766775,48767934,48769860,48771196,48771547,48772320,48773532,48774688,48775102,48776138,48777324,48790412,48792219,48794081,48794658,48798708,48800266,48801211,48801783,48803041,48805947,48809854,48811129,48813027,48815355,48817536,48825122,48826624,48827978,48830943,48839913,48840450,48841738,48842572,48843347,48845732,48846650,48847618,48848460,48849077,48852257,48855926,48856443,48856589,48866279,48866479,48867006,48868508,48869823,48869991,48872743,</td>\n",
       "      <td>0</td>\n",
       "      <td>PRKDC</td>\n",
       "      <td>cmpl</td>\n",
       "      <td>cmpl</td>\n",
       "      <td>2,0,0,2,2,2,2,0,1,0,0,2,0,1,0,1,0,2,1,0,0,0,2,0,0,0,1,1,0,2,2,2,2,0,2,2,0,0,0,0,1,0,0,2,0,2,0,0,0,0,0,0,2,0,1,1,2,1,2,0,0,0,1,0,1,0,0,0,2,0,0,0,1,0,0,0,1,0,1,0,1,0,0,0,1,0,</td>\n",
       "    </tr>\n",
       "    <tr>\n",
       "      <th>7</th>\n",
       "      <td>8</td>\n",
       "      <td>48772171</td>\n",
       "      <td>48772320</td>\n",
       "      <td>119</td>\n",
       "      <td>NM_006904</td>\n",
       "      <td>-</td>\n",
       "      <td>48686733</td>\n",
       "      <td>48872686</td>\n",
       "      <td>86</td>\n",
       "      <td>48685668,48689404,48690246,48691019,48691288,48691564,48694722,48694938,48696302,48697673,48701466,48701711,48706850,48710797,48711770,48713353,48715866,48719697,48730010,48731962,48733279,48734164,48736418,48739216,48740728,48743165,48744374,48746756,48748898,48749772,48751708,48752576,48761714,48761939,48765233,48766643,48767782,48769716,48771076,48771409,48772171,48773459,48774622,48774933,48775959,48777116,48790284,48792051,48793976,48794472,48798504,48800107,48801078,48801574,48802817,48805699,48809720,48811029,48812932,48815128,48817428,48824969,48826460,48827887,48830836,48839753,48840330,48841651,48842412,48843231,48845579,48846524,48847568,48848291,48848912,48852110,48855768,48856412,48856533,48866179,48866366,48866897,48868433,48869730,48869914,48872532,</td>\n",
       "      <td>48686938,48689544,48690435,48691221,48691360,48691654,48694815,48695159,48696370,48697878,48701610,48701799,48707062,48710958,48711951,48713547,48716041,48719887,48730122,48732071,48733504,48734353,48736557,48739422,48740908,48743297,48744487,48746957,48749088,48749980,48751807,48752750,48761864,48762064,48765345,48766775,48767934,48769860,48771196,48771547,48772320,48773532,48774688,48775102,48776138,48777324,48790412,48792219,48794081,48794658,48798708,48800266,48801211,48801783,48803041,48805947,48809854,48811129,48813027,48815355,48817536,48825122,48826624,48827978,48830943,48839913,48840450,48841738,48842572,48843347,48845732,48846650,48847618,48848460,48849077,48852257,48855926,48856443,48856589,48866279,48866479,48867006,48868508,48869823,48869991,48872743,</td>\n",
       "      <td>0</td>\n",
       "      <td>PRKDC</td>\n",
       "      <td>cmpl</td>\n",
       "      <td>cmpl</td>\n",
       "      <td>2,0,0,2,2,2,2,0,1,0,0,2,0,1,0,1,0,2,1,0,0,0,2,0,0,0,1,1,0,2,2,2,2,0,2,2,0,0,0,0,1,0,0,2,0,2,0,0,0,0,0,0,2,0,1,1,2,1,2,0,0,0,1,0,1,0,0,0,2,0,0,0,1,0,0,0,1,0,1,0,1,0,0,0,1,0,</td>\n",
       "    </tr>\n",
       "    <tr>\n",
       "      <th>8</th>\n",
       "      <td>8</td>\n",
       "      <td>48713353</td>\n",
       "      <td>48713547</td>\n",
       "      <td>119</td>\n",
       "      <td>NM_006904</td>\n",
       "      <td>-</td>\n",
       "      <td>48686733</td>\n",
       "      <td>48872686</td>\n",
       "      <td>86</td>\n",
       "      <td>48685668,48689404,48690246,48691019,48691288,48691564,48694722,48694938,48696302,48697673,48701466,48701711,48706850,48710797,48711770,48713353,48715866,48719697,48730010,48731962,48733279,48734164,48736418,48739216,48740728,48743165,48744374,48746756,48748898,48749772,48751708,48752576,48761714,48761939,48765233,48766643,48767782,48769716,48771076,48771409,48772171,48773459,48774622,48774933,48775959,48777116,48790284,48792051,48793976,48794472,48798504,48800107,48801078,48801574,48802817,48805699,48809720,48811029,48812932,48815128,48817428,48824969,48826460,48827887,48830836,48839753,48840330,48841651,48842412,48843231,48845579,48846524,48847568,48848291,48848912,48852110,48855768,48856412,48856533,48866179,48866366,48866897,48868433,48869730,48869914,48872532,</td>\n",
       "      <td>48686938,48689544,48690435,48691221,48691360,48691654,48694815,48695159,48696370,48697878,48701610,48701799,48707062,48710958,48711951,48713547,48716041,48719887,48730122,48732071,48733504,48734353,48736557,48739422,48740908,48743297,48744487,48746957,48749088,48749980,48751807,48752750,48761864,48762064,48765345,48766775,48767934,48769860,48771196,48771547,48772320,48773532,48774688,48775102,48776138,48777324,48790412,48792219,48794081,48794658,48798708,48800266,48801211,48801783,48803041,48805947,48809854,48811129,48813027,48815355,48817536,48825122,48826624,48827978,48830943,48839913,48840450,48841738,48842572,48843347,48845732,48846650,48847618,48848460,48849077,48852257,48855926,48856443,48856589,48866279,48866479,48867006,48868508,48869823,48869991,48872743,</td>\n",
       "      <td>0</td>\n",
       "      <td>PRKDC</td>\n",
       "      <td>cmpl</td>\n",
       "      <td>cmpl</td>\n",
       "      <td>2,0,0,2,2,2,2,0,1,0,0,2,0,1,0,1,0,2,1,0,0,0,2,0,0,0,1,1,0,2,2,2,2,0,2,2,0,0,0,0,1,0,0,2,0,2,0,0,0,0,0,0,2,0,1,1,2,1,2,0,0,0,1,0,1,0,0,0,2,0,0,0,1,0,0,0,1,0,1,0,1,0,0,0,1,0,</td>\n",
       "    </tr>\n",
       "    <tr>\n",
       "      <th>9</th>\n",
       "      <td>8</td>\n",
       "      <td>48749772</td>\n",
       "      <td>48749980</td>\n",
       "      <td>119</td>\n",
       "      <td>NM_006904</td>\n",
       "      <td>-</td>\n",
       "      <td>48686733</td>\n",
       "      <td>48872686</td>\n",
       "      <td>86</td>\n",
       "      <td>48685668,48689404,48690246,48691019,48691288,48691564,48694722,48694938,48696302,48697673,48701466,48701711,48706850,48710797,48711770,48713353,48715866,48719697,48730010,48731962,48733279,48734164,48736418,48739216,48740728,48743165,48744374,48746756,48748898,48749772,48751708,48752576,48761714,48761939,48765233,48766643,48767782,48769716,48771076,48771409,48772171,48773459,48774622,48774933,48775959,48777116,48790284,48792051,48793976,48794472,48798504,48800107,48801078,48801574,48802817,48805699,48809720,48811029,48812932,48815128,48817428,48824969,48826460,48827887,48830836,48839753,48840330,48841651,48842412,48843231,48845579,48846524,48847568,48848291,48848912,48852110,48855768,48856412,48856533,48866179,48866366,48866897,48868433,48869730,48869914,48872532,</td>\n",
       "      <td>48686938,48689544,48690435,48691221,48691360,48691654,48694815,48695159,48696370,48697878,48701610,48701799,48707062,48710958,48711951,48713547,48716041,48719887,48730122,48732071,48733504,48734353,48736557,48739422,48740908,48743297,48744487,48746957,48749088,48749980,48751807,48752750,48761864,48762064,48765345,48766775,48767934,48769860,48771196,48771547,48772320,48773532,48774688,48775102,48776138,48777324,48790412,48792219,48794081,48794658,48798708,48800266,48801211,48801783,48803041,48805947,48809854,48811129,48813027,48815355,48817536,48825122,48826624,48827978,48830943,48839913,48840450,48841738,48842572,48843347,48845732,48846650,48847618,48848460,48849077,48852257,48855926,48856443,48856589,48866279,48866479,48867006,48868508,48869823,48869991,48872743,</td>\n",
       "      <td>0</td>\n",
       "      <td>PRKDC</td>\n",
       "      <td>cmpl</td>\n",
       "      <td>cmpl</td>\n",
       "      <td>2,0,0,2,2,2,2,0,1,0,0,2,0,1,0,1,0,2,1,0,0,0,2,0,0,0,1,1,0,2,2,2,2,0,2,2,0,0,0,0,1,0,0,2,0,2,0,0,0,0,0,0,2,0,1,1,2,1,2,0,0,0,1,0,1,0,0,0,2,0,0,0,1,0,0,0,1,0,1,0,1,0,0,0,1,0,</td>\n",
       "    </tr>\n",
       "  </tbody>\n",
       "</table>\n",
       "</div>"
      ],
      "text/plain": [
       "  chrm  start_position  end_position  bin       name strand  cdsstart  \\\n",
       "0    8        48773459      48773532  119  NM_006904      -  48686733   \n",
       "1    8        48774622      48774688  119  NM_006904      -  48686733   \n",
       "2    8        48790284      48790412  119  NM_006904      -  48686733   \n",
       "3    8        48866179      48866279  119  NM_006904      -  48686733   \n",
       "4    8        48691288      48691360  119  NM_006904      -  48686733   \n",
       "5    8        48711770      48711951  119  NM_006904      -  48686733   \n",
       "6    8        48761714      48761864  119  NM_006904      -  48686733   \n",
       "7    8        48772171      48772320  119  NM_006904      -  48686733   \n",
       "8    8        48713353      48713547  119  NM_006904      -  48686733   \n",
       "9    8        48749772      48749980  119  NM_006904      -  48686733   \n",
       "\n",
       "     cdsend exoncount  \\\n",
       "0  48872686        86   \n",
       "1  48872686        86   \n",
       "2  48872686        86   \n",
       "3  48872686        86   \n",
       "4  48872686        86   \n",
       "5  48872686        86   \n",
       "6  48872686        86   \n",
       "7  48872686        86   \n",
       "8  48872686        86   \n",
       "9  48872686        86   \n",
       "\n",
       "                                                                                                                                                                                                                                                                                                                                                                                                                                                                                                                                                                                                                                                                                                                                                                                               exonstarts  \\\n",
       "0  48685668,48689404,48690246,48691019,48691288,48691564,48694722,48694938,48696302,48697673,48701466,48701711,48706850,48710797,48711770,48713353,48715866,48719697,48730010,48731962,48733279,48734164,48736418,48739216,48740728,48743165,48744374,48746756,48748898,48749772,48751708,48752576,48761714,48761939,48765233,48766643,48767782,48769716,48771076,48771409,48772171,48773459,48774622,48774933,48775959,48777116,48790284,48792051,48793976,48794472,48798504,48800107,48801078,48801574,48802817,48805699,48809720,48811029,48812932,48815128,48817428,48824969,48826460,48827887,48830836,48839753,48840330,48841651,48842412,48843231,48845579,48846524,48847568,48848291,48848912,48852110,48855768,48856412,48856533,48866179,48866366,48866897,48868433,48869730,48869914,48872532,   \n",
       "1  48685668,48689404,48690246,48691019,48691288,48691564,48694722,48694938,48696302,48697673,48701466,48701711,48706850,48710797,48711770,48713353,48715866,48719697,48730010,48731962,48733279,48734164,48736418,48739216,48740728,48743165,48744374,48746756,48748898,48749772,48751708,48752576,48761714,48761939,48765233,48766643,48767782,48769716,48771076,48771409,48772171,48773459,48774622,48774933,48775959,48777116,48790284,48792051,48793976,48794472,48798504,48800107,48801078,48801574,48802817,48805699,48809720,48811029,48812932,48815128,48817428,48824969,48826460,48827887,48830836,48839753,48840330,48841651,48842412,48843231,48845579,48846524,48847568,48848291,48848912,48852110,48855768,48856412,48856533,48866179,48866366,48866897,48868433,48869730,48869914,48872532,   \n",
       "2  48685668,48689404,48690246,48691019,48691288,48691564,48694722,48694938,48696302,48697673,48701466,48701711,48706850,48710797,48711770,48713353,48715866,48719697,48730010,48731962,48733279,48734164,48736418,48739216,48740728,48743165,48744374,48746756,48748898,48749772,48751708,48752576,48761714,48761939,48765233,48766643,48767782,48769716,48771076,48771409,48772171,48773459,48774622,48774933,48775959,48777116,48790284,48792051,48793976,48794472,48798504,48800107,48801078,48801574,48802817,48805699,48809720,48811029,48812932,48815128,48817428,48824969,48826460,48827887,48830836,48839753,48840330,48841651,48842412,48843231,48845579,48846524,48847568,48848291,48848912,48852110,48855768,48856412,48856533,48866179,48866366,48866897,48868433,48869730,48869914,48872532,   \n",
       "3  48685668,48689404,48690246,48691019,48691288,48691564,48694722,48694938,48696302,48697673,48701466,48701711,48706850,48710797,48711770,48713353,48715866,48719697,48730010,48731962,48733279,48734164,48736418,48739216,48740728,48743165,48744374,48746756,48748898,48749772,48751708,48752576,48761714,48761939,48765233,48766643,48767782,48769716,48771076,48771409,48772171,48773459,48774622,48774933,48775959,48777116,48790284,48792051,48793976,48794472,48798504,48800107,48801078,48801574,48802817,48805699,48809720,48811029,48812932,48815128,48817428,48824969,48826460,48827887,48830836,48839753,48840330,48841651,48842412,48843231,48845579,48846524,48847568,48848291,48848912,48852110,48855768,48856412,48856533,48866179,48866366,48866897,48868433,48869730,48869914,48872532,   \n",
       "4  48685668,48689404,48690246,48691019,48691288,48691564,48694722,48694938,48696302,48697673,48701466,48701711,48706850,48710797,48711770,48713353,48715866,48719697,48730010,48731962,48733279,48734164,48736418,48739216,48740728,48743165,48744374,48746756,48748898,48749772,48751708,48752576,48761714,48761939,48765233,48766643,48767782,48769716,48771076,48771409,48772171,48773459,48774622,48774933,48775959,48777116,48790284,48792051,48793976,48794472,48798504,48800107,48801078,48801574,48802817,48805699,48809720,48811029,48812932,48815128,48817428,48824969,48826460,48827887,48830836,48839753,48840330,48841651,48842412,48843231,48845579,48846524,48847568,48848291,48848912,48852110,48855768,48856412,48856533,48866179,48866366,48866897,48868433,48869730,48869914,48872532,   \n",
       "5  48685668,48689404,48690246,48691019,48691288,48691564,48694722,48694938,48696302,48697673,48701466,48701711,48706850,48710797,48711770,48713353,48715866,48719697,48730010,48731962,48733279,48734164,48736418,48739216,48740728,48743165,48744374,48746756,48748898,48749772,48751708,48752576,48761714,48761939,48765233,48766643,48767782,48769716,48771076,48771409,48772171,48773459,48774622,48774933,48775959,48777116,48790284,48792051,48793976,48794472,48798504,48800107,48801078,48801574,48802817,48805699,48809720,48811029,48812932,48815128,48817428,48824969,48826460,48827887,48830836,48839753,48840330,48841651,48842412,48843231,48845579,48846524,48847568,48848291,48848912,48852110,48855768,48856412,48856533,48866179,48866366,48866897,48868433,48869730,48869914,48872532,   \n",
       "6  48685668,48689404,48690246,48691019,48691288,48691564,48694722,48694938,48696302,48697673,48701466,48701711,48706850,48710797,48711770,48713353,48715866,48719697,48730010,48731962,48733279,48734164,48736418,48739216,48740728,48743165,48744374,48746756,48748898,48749772,48751708,48752576,48761714,48761939,48765233,48766643,48767782,48769716,48771076,48771409,48772171,48773459,48774622,48774933,48775959,48777116,48790284,48792051,48793976,48794472,48798504,48800107,48801078,48801574,48802817,48805699,48809720,48811029,48812932,48815128,48817428,48824969,48826460,48827887,48830836,48839753,48840330,48841651,48842412,48843231,48845579,48846524,48847568,48848291,48848912,48852110,48855768,48856412,48856533,48866179,48866366,48866897,48868433,48869730,48869914,48872532,   \n",
       "7  48685668,48689404,48690246,48691019,48691288,48691564,48694722,48694938,48696302,48697673,48701466,48701711,48706850,48710797,48711770,48713353,48715866,48719697,48730010,48731962,48733279,48734164,48736418,48739216,48740728,48743165,48744374,48746756,48748898,48749772,48751708,48752576,48761714,48761939,48765233,48766643,48767782,48769716,48771076,48771409,48772171,48773459,48774622,48774933,48775959,48777116,48790284,48792051,48793976,48794472,48798504,48800107,48801078,48801574,48802817,48805699,48809720,48811029,48812932,48815128,48817428,48824969,48826460,48827887,48830836,48839753,48840330,48841651,48842412,48843231,48845579,48846524,48847568,48848291,48848912,48852110,48855768,48856412,48856533,48866179,48866366,48866897,48868433,48869730,48869914,48872532,   \n",
       "8  48685668,48689404,48690246,48691019,48691288,48691564,48694722,48694938,48696302,48697673,48701466,48701711,48706850,48710797,48711770,48713353,48715866,48719697,48730010,48731962,48733279,48734164,48736418,48739216,48740728,48743165,48744374,48746756,48748898,48749772,48751708,48752576,48761714,48761939,48765233,48766643,48767782,48769716,48771076,48771409,48772171,48773459,48774622,48774933,48775959,48777116,48790284,48792051,48793976,48794472,48798504,48800107,48801078,48801574,48802817,48805699,48809720,48811029,48812932,48815128,48817428,48824969,48826460,48827887,48830836,48839753,48840330,48841651,48842412,48843231,48845579,48846524,48847568,48848291,48848912,48852110,48855768,48856412,48856533,48866179,48866366,48866897,48868433,48869730,48869914,48872532,   \n",
       "9  48685668,48689404,48690246,48691019,48691288,48691564,48694722,48694938,48696302,48697673,48701466,48701711,48706850,48710797,48711770,48713353,48715866,48719697,48730010,48731962,48733279,48734164,48736418,48739216,48740728,48743165,48744374,48746756,48748898,48749772,48751708,48752576,48761714,48761939,48765233,48766643,48767782,48769716,48771076,48771409,48772171,48773459,48774622,48774933,48775959,48777116,48790284,48792051,48793976,48794472,48798504,48800107,48801078,48801574,48802817,48805699,48809720,48811029,48812932,48815128,48817428,48824969,48826460,48827887,48830836,48839753,48840330,48841651,48842412,48843231,48845579,48846524,48847568,48848291,48848912,48852110,48855768,48856412,48856533,48866179,48866366,48866897,48868433,48869730,48869914,48872532,   \n",
       "\n",
       "                                                                                                                                                                                                                                                                                                                                                                                                                                                                                                                                                                                                                                                                                                                                                                                                 exonends  \\\n",
       "0  48686938,48689544,48690435,48691221,48691360,48691654,48694815,48695159,48696370,48697878,48701610,48701799,48707062,48710958,48711951,48713547,48716041,48719887,48730122,48732071,48733504,48734353,48736557,48739422,48740908,48743297,48744487,48746957,48749088,48749980,48751807,48752750,48761864,48762064,48765345,48766775,48767934,48769860,48771196,48771547,48772320,48773532,48774688,48775102,48776138,48777324,48790412,48792219,48794081,48794658,48798708,48800266,48801211,48801783,48803041,48805947,48809854,48811129,48813027,48815355,48817536,48825122,48826624,48827978,48830943,48839913,48840450,48841738,48842572,48843347,48845732,48846650,48847618,48848460,48849077,48852257,48855926,48856443,48856589,48866279,48866479,48867006,48868508,48869823,48869991,48872743,   \n",
       "1  48686938,48689544,48690435,48691221,48691360,48691654,48694815,48695159,48696370,48697878,48701610,48701799,48707062,48710958,48711951,48713547,48716041,48719887,48730122,48732071,48733504,48734353,48736557,48739422,48740908,48743297,48744487,48746957,48749088,48749980,48751807,48752750,48761864,48762064,48765345,48766775,48767934,48769860,48771196,48771547,48772320,48773532,48774688,48775102,48776138,48777324,48790412,48792219,48794081,48794658,48798708,48800266,48801211,48801783,48803041,48805947,48809854,48811129,48813027,48815355,48817536,48825122,48826624,48827978,48830943,48839913,48840450,48841738,48842572,48843347,48845732,48846650,48847618,48848460,48849077,48852257,48855926,48856443,48856589,48866279,48866479,48867006,48868508,48869823,48869991,48872743,   \n",
       "2  48686938,48689544,48690435,48691221,48691360,48691654,48694815,48695159,48696370,48697878,48701610,48701799,48707062,48710958,48711951,48713547,48716041,48719887,48730122,48732071,48733504,48734353,48736557,48739422,48740908,48743297,48744487,48746957,48749088,48749980,48751807,48752750,48761864,48762064,48765345,48766775,48767934,48769860,48771196,48771547,48772320,48773532,48774688,48775102,48776138,48777324,48790412,48792219,48794081,48794658,48798708,48800266,48801211,48801783,48803041,48805947,48809854,48811129,48813027,48815355,48817536,48825122,48826624,48827978,48830943,48839913,48840450,48841738,48842572,48843347,48845732,48846650,48847618,48848460,48849077,48852257,48855926,48856443,48856589,48866279,48866479,48867006,48868508,48869823,48869991,48872743,   \n",
       "3  48686938,48689544,48690435,48691221,48691360,48691654,48694815,48695159,48696370,48697878,48701610,48701799,48707062,48710958,48711951,48713547,48716041,48719887,48730122,48732071,48733504,48734353,48736557,48739422,48740908,48743297,48744487,48746957,48749088,48749980,48751807,48752750,48761864,48762064,48765345,48766775,48767934,48769860,48771196,48771547,48772320,48773532,48774688,48775102,48776138,48777324,48790412,48792219,48794081,48794658,48798708,48800266,48801211,48801783,48803041,48805947,48809854,48811129,48813027,48815355,48817536,48825122,48826624,48827978,48830943,48839913,48840450,48841738,48842572,48843347,48845732,48846650,48847618,48848460,48849077,48852257,48855926,48856443,48856589,48866279,48866479,48867006,48868508,48869823,48869991,48872743,   \n",
       "4  48686938,48689544,48690435,48691221,48691360,48691654,48694815,48695159,48696370,48697878,48701610,48701799,48707062,48710958,48711951,48713547,48716041,48719887,48730122,48732071,48733504,48734353,48736557,48739422,48740908,48743297,48744487,48746957,48749088,48749980,48751807,48752750,48761864,48762064,48765345,48766775,48767934,48769860,48771196,48771547,48772320,48773532,48774688,48775102,48776138,48777324,48790412,48792219,48794081,48794658,48798708,48800266,48801211,48801783,48803041,48805947,48809854,48811129,48813027,48815355,48817536,48825122,48826624,48827978,48830943,48839913,48840450,48841738,48842572,48843347,48845732,48846650,48847618,48848460,48849077,48852257,48855926,48856443,48856589,48866279,48866479,48867006,48868508,48869823,48869991,48872743,   \n",
       "5  48686938,48689544,48690435,48691221,48691360,48691654,48694815,48695159,48696370,48697878,48701610,48701799,48707062,48710958,48711951,48713547,48716041,48719887,48730122,48732071,48733504,48734353,48736557,48739422,48740908,48743297,48744487,48746957,48749088,48749980,48751807,48752750,48761864,48762064,48765345,48766775,48767934,48769860,48771196,48771547,48772320,48773532,48774688,48775102,48776138,48777324,48790412,48792219,48794081,48794658,48798708,48800266,48801211,48801783,48803041,48805947,48809854,48811129,48813027,48815355,48817536,48825122,48826624,48827978,48830943,48839913,48840450,48841738,48842572,48843347,48845732,48846650,48847618,48848460,48849077,48852257,48855926,48856443,48856589,48866279,48866479,48867006,48868508,48869823,48869991,48872743,   \n",
       "6  48686938,48689544,48690435,48691221,48691360,48691654,48694815,48695159,48696370,48697878,48701610,48701799,48707062,48710958,48711951,48713547,48716041,48719887,48730122,48732071,48733504,48734353,48736557,48739422,48740908,48743297,48744487,48746957,48749088,48749980,48751807,48752750,48761864,48762064,48765345,48766775,48767934,48769860,48771196,48771547,48772320,48773532,48774688,48775102,48776138,48777324,48790412,48792219,48794081,48794658,48798708,48800266,48801211,48801783,48803041,48805947,48809854,48811129,48813027,48815355,48817536,48825122,48826624,48827978,48830943,48839913,48840450,48841738,48842572,48843347,48845732,48846650,48847618,48848460,48849077,48852257,48855926,48856443,48856589,48866279,48866479,48867006,48868508,48869823,48869991,48872743,   \n",
       "7  48686938,48689544,48690435,48691221,48691360,48691654,48694815,48695159,48696370,48697878,48701610,48701799,48707062,48710958,48711951,48713547,48716041,48719887,48730122,48732071,48733504,48734353,48736557,48739422,48740908,48743297,48744487,48746957,48749088,48749980,48751807,48752750,48761864,48762064,48765345,48766775,48767934,48769860,48771196,48771547,48772320,48773532,48774688,48775102,48776138,48777324,48790412,48792219,48794081,48794658,48798708,48800266,48801211,48801783,48803041,48805947,48809854,48811129,48813027,48815355,48817536,48825122,48826624,48827978,48830943,48839913,48840450,48841738,48842572,48843347,48845732,48846650,48847618,48848460,48849077,48852257,48855926,48856443,48856589,48866279,48866479,48867006,48868508,48869823,48869991,48872743,   \n",
       "8  48686938,48689544,48690435,48691221,48691360,48691654,48694815,48695159,48696370,48697878,48701610,48701799,48707062,48710958,48711951,48713547,48716041,48719887,48730122,48732071,48733504,48734353,48736557,48739422,48740908,48743297,48744487,48746957,48749088,48749980,48751807,48752750,48761864,48762064,48765345,48766775,48767934,48769860,48771196,48771547,48772320,48773532,48774688,48775102,48776138,48777324,48790412,48792219,48794081,48794658,48798708,48800266,48801211,48801783,48803041,48805947,48809854,48811129,48813027,48815355,48817536,48825122,48826624,48827978,48830943,48839913,48840450,48841738,48842572,48843347,48845732,48846650,48847618,48848460,48849077,48852257,48855926,48856443,48856589,48866279,48866479,48867006,48868508,48869823,48869991,48872743,   \n",
       "9  48686938,48689544,48690435,48691221,48691360,48691654,48694815,48695159,48696370,48697878,48701610,48701799,48707062,48710958,48711951,48713547,48716041,48719887,48730122,48732071,48733504,48734353,48736557,48739422,48740908,48743297,48744487,48746957,48749088,48749980,48751807,48752750,48761864,48762064,48765345,48766775,48767934,48769860,48771196,48771547,48772320,48773532,48774688,48775102,48776138,48777324,48790412,48792219,48794081,48794658,48798708,48800266,48801211,48801783,48803041,48805947,48809854,48811129,48813027,48815355,48817536,48825122,48826624,48827978,48830943,48839913,48840450,48841738,48842572,48843347,48845732,48846650,48847618,48848460,48849077,48852257,48855926,48856443,48856589,48866279,48866479,48867006,48868508,48869823,48869991,48872743,   \n",
       "\n",
       "  score  name2 cdsstartstat cdsendstat  \\\n",
       "0     0  PRKDC         cmpl       cmpl   \n",
       "1     0  PRKDC         cmpl       cmpl   \n",
       "2     0  PRKDC         cmpl       cmpl   \n",
       "3     0  PRKDC         cmpl       cmpl   \n",
       "4     0  PRKDC         cmpl       cmpl   \n",
       "5     0  PRKDC         cmpl       cmpl   \n",
       "6     0  PRKDC         cmpl       cmpl   \n",
       "7     0  PRKDC         cmpl       cmpl   \n",
       "8     0  PRKDC         cmpl       cmpl   \n",
       "9     0  PRKDC         cmpl       cmpl   \n",
       "\n",
       "                                                                                                                                                                     exonframes  \n",
       "0  2,0,0,2,2,2,2,0,1,0,0,2,0,1,0,1,0,2,1,0,0,0,2,0,0,0,1,1,0,2,2,2,2,0,2,2,0,0,0,0,1,0,0,2,0,2,0,0,0,0,0,0,2,0,1,1,2,1,2,0,0,0,1,0,1,0,0,0,2,0,0,0,1,0,0,0,1,0,1,0,1,0,0,0,1,0,  \n",
       "1  2,0,0,2,2,2,2,0,1,0,0,2,0,1,0,1,0,2,1,0,0,0,2,0,0,0,1,1,0,2,2,2,2,0,2,2,0,0,0,0,1,0,0,2,0,2,0,0,0,0,0,0,2,0,1,1,2,1,2,0,0,0,1,0,1,0,0,0,2,0,0,0,1,0,0,0,1,0,1,0,1,0,0,0,1,0,  \n",
       "2  2,0,0,2,2,2,2,0,1,0,0,2,0,1,0,1,0,2,1,0,0,0,2,0,0,0,1,1,0,2,2,2,2,0,2,2,0,0,0,0,1,0,0,2,0,2,0,0,0,0,0,0,2,0,1,1,2,1,2,0,0,0,1,0,1,0,0,0,2,0,0,0,1,0,0,0,1,0,1,0,1,0,0,0,1,0,  \n",
       "3  2,0,0,2,2,2,2,0,1,0,0,2,0,1,0,1,0,2,1,0,0,0,2,0,0,0,1,1,0,2,2,2,2,0,2,2,0,0,0,0,1,0,0,2,0,2,0,0,0,0,0,0,2,0,1,1,2,1,2,0,0,0,1,0,1,0,0,0,2,0,0,0,1,0,0,0,1,0,1,0,1,0,0,0,1,0,  \n",
       "4  2,0,0,2,2,2,2,0,1,0,0,2,0,1,0,1,0,2,1,0,0,0,2,0,0,0,1,1,0,2,2,2,2,0,2,2,0,0,0,0,1,0,0,2,0,2,0,0,0,0,0,0,2,0,1,1,2,1,2,0,0,0,1,0,1,0,0,0,2,0,0,0,1,0,0,0,1,0,1,0,1,0,0,0,1,0,  \n",
       "5  2,0,0,2,2,2,2,0,1,0,0,2,0,1,0,1,0,2,1,0,0,0,2,0,0,0,1,1,0,2,2,2,2,0,2,2,0,0,0,0,1,0,0,2,0,2,0,0,0,0,0,0,2,0,1,1,2,1,2,0,0,0,1,0,1,0,0,0,2,0,0,0,1,0,0,0,1,0,1,0,1,0,0,0,1,0,  \n",
       "6  2,0,0,2,2,2,2,0,1,0,0,2,0,1,0,1,0,2,1,0,0,0,2,0,0,0,1,1,0,2,2,2,2,0,2,2,0,0,0,0,1,0,0,2,0,2,0,0,0,0,0,0,2,0,1,1,2,1,2,0,0,0,1,0,1,0,0,0,2,0,0,0,1,0,0,0,1,0,1,0,1,0,0,0,1,0,  \n",
       "7  2,0,0,2,2,2,2,0,1,0,0,2,0,1,0,1,0,2,1,0,0,0,2,0,0,0,1,1,0,2,2,2,2,0,2,2,0,0,0,0,1,0,0,2,0,2,0,0,0,0,0,0,2,0,1,1,2,1,2,0,0,0,1,0,1,0,0,0,2,0,0,0,1,0,0,0,1,0,1,0,1,0,0,0,1,0,  \n",
       "8  2,0,0,2,2,2,2,0,1,0,0,2,0,1,0,1,0,2,1,0,0,0,2,0,0,0,1,1,0,2,2,2,2,0,2,2,0,0,0,0,1,0,0,2,0,2,0,0,0,0,0,0,2,0,1,1,2,1,2,0,0,0,1,0,1,0,0,0,2,0,0,0,1,0,0,0,1,0,1,0,1,0,0,0,1,0,  \n",
       "9  2,0,0,2,2,2,2,0,1,0,0,2,0,1,0,1,0,2,1,0,0,0,2,0,0,0,1,1,0,2,2,2,2,0,2,2,0,0,0,0,1,0,0,2,0,2,0,0,0,0,0,0,2,0,1,1,2,1,2,0,0,0,1,0,1,0,0,0,2,0,0,0,1,0,0,0,1,0,1,0,1,0,0,0,1,0,  "
      ]
     },
     "execution_count": 6,
     "metadata": {},
     "output_type": "execute_result"
    }
   ],
   "source": [
    "pd.read_sql('SELECT * FROM \"1000_genomes\".hg19_ucsc_refgene_int LIMIT 10', conn).head(10)"
   ]
  },
  {
   "cell_type": "markdown",
   "id": "3fd80a8a",
   "metadata": {
    "id": "3fd80a8a"
   },
   "source": [
    "Here are what some of the columns mean according to Schema for NCBI RefSeq - RefSeq genes from NCBI:\n",
    "\n",
    "1. `cdsstart`: Coding region start.\n",
    "2. `cdsend`: Coding region end.\n",
    "3. `exoncount`: Number of exons.\n",
    "4. `strand`: + or - for strand\n"
   ]
  },
  {
   "cell_type": "markdown",
   "id": "89d36709",
   "metadata": {
    "id": "89d36709"
   },
   "source": [
    "---"
   ]
  },
  {
   "cell_type": "markdown",
   "id": "d6c47fc7",
   "metadata": {
    "id": "d6c47fc7"
   },
   "source": [
    "# Variant-Based Annotation"
   ]
  },
  {
   "cell_type": "markdown",
   "id": "1cc8a79b",
   "metadata": {
    "id": "1cc8a79b"
   },
   "source": [
    "Variant-based annotation aims to look for **exact matches** between a query variant and a record in annotation datasets (i.e., two items have identical  chromosome, start position, end position, reference allele and alternative allele).\n",
    "\n",
    "The code below uses the `JOIN` function to look for exact matches between the ***1000 Genomes Project*** dataset and the ***COSMIC*** dataset. It compares the start and end positions, reference allele, alternate allele at chromosome 2 between the two datasets."
   ]
  },
  {
   "cell_type": "code",
   "execution_count": 7,
   "id": "7f140616",
   "metadata": {
    "id": "7f140616",
    "scrolled": true
   },
   "outputs": [
    {
     "name": "stderr",
     "output_type": "stream",
     "text": [
      "/tmp/ipykernel_122/4159624003.py:1: UserWarning: pandas only supports SQLAlchemy connectable (engine/connection) or database string URI or sqlite3 DBAPI2 connection. Other DBAPI2 objects are not tested. Please consider using SQLAlchemy.\n",
      "  pd.read_sql(\"SELECT A.chrm, A.start_position, A.end_position, A.reference_bases, A.alternate_bases,B.cosmic_info, A.info \"\n"
     ]
    },
    {
     "data": {
      "text/html": [
       "<div>\n",
       "<style scoped>\n",
       "    .dataframe tbody tr th:only-of-type {\n",
       "        vertical-align: middle;\n",
       "    }\n",
       "\n",
       "    .dataframe tbody tr th {\n",
       "        vertical-align: top;\n",
       "    }\n",
       "\n",
       "    .dataframe thead th {\n",
       "        text-align: right;\n",
       "    }\n",
       "</style>\n",
       "<table border=\"1\" class=\"dataframe\">\n",
       "  <thead>\n",
       "    <tr style=\"text-align: right;\">\n",
       "      <th></th>\n",
       "      <th>chrm</th>\n",
       "      <th>start_position</th>\n",
       "      <th>end_position</th>\n",
       "      <th>reference_bases</th>\n",
       "      <th>alternate_bases</th>\n",
       "      <th>cosmic_info</th>\n",
       "      <th>info</th>\n",
       "    </tr>\n",
       "  </thead>\n",
       "  <tbody>\n",
       "    <tr>\n",
       "      <th>0</th>\n",
       "      <td>2</td>\n",
       "      <td>55184</td>\n",
       "      <td>55185</td>\n",
       "      <td>G</td>\n",
       "      <td>A</td>\n",
       "      <td>ID=COSN206912;OCCURENCE=1(large_intestine)</td>\n",
       "      <td>AC=60;AF=0.0119808;AN=5008;NS=2504;DP=19415;EAS_AF=0;AMR_AF=0.0043;AFR_AF=0.0431;EUR_AF=0;SAS_AF=0;AA=G|||;VT=SNP</td>\n",
       "    </tr>\n",
       "    <tr>\n",
       "      <th>1</th>\n",
       "      <td>2</td>\n",
       "      <td>95490</td>\n",
       "      <td>95491</td>\n",
       "      <td>C</td>\n",
       "      <td>T</td>\n",
       "      <td>ID=COSN42681;OCCURENCE=4(central_nervous_system)</td>\n",
       "      <td>AC=17;AF=0.00339457;AN=5008;NS=2504;DP=16854;EAS_AF=0.0169;AMR_AF=0;AFR_AF=0;EUR_AF=0;SAS_AF=0;AA=C|||;VT=SNP</td>\n",
       "    </tr>\n",
       "    <tr>\n",
       "      <th>2</th>\n",
       "      <td>2</td>\n",
       "      <td>128457</td>\n",
       "      <td>128458</td>\n",
       "      <td>G</td>\n",
       "      <td>A</td>\n",
       "      <td>ID=COSN181337,COSN181637;OCCURENCE=1(stomach),2(large_intestine)</td>\n",
       "      <td>AC=1;AF=0.000199681;AN=5008;NS=2504;DP=17605;EAS_AF=0.001;AMR_AF=0;AFR_AF=0;EUR_AF=0;SAS_AF=0;AA=G|||;VT=SNP</td>\n",
       "    </tr>\n",
       "    <tr>\n",
       "      <th>3</th>\n",
       "      <td>2</td>\n",
       "      <td>133636</td>\n",
       "      <td>133637</td>\n",
       "      <td>G</td>\n",
       "      <td>A</td>\n",
       "      <td>ID=COSN33464;OCCURENCE=1(breast),1(large_intestine)</td>\n",
       "      <td>AC=3;AF=0.000599042;AN=5008;NS=2504;DP=19368;EAS_AF=0;AMR_AF=0;AFR_AF=0;EUR_AF=0;SAS_AF=0.0031;AA=G|||;VT=SNP</td>\n",
       "    </tr>\n",
       "    <tr>\n",
       "      <th>4</th>\n",
       "      <td>2</td>\n",
       "      <td>218857</td>\n",
       "      <td>218858</td>\n",
       "      <td>G</td>\n",
       "      <td>A</td>\n",
       "      <td>ID=COSM1404910,COSM1404911;OCCURENCE=1(large_intestine)</td>\n",
       "      <td>AC=1;AF=0.000199681;AN=5008;NS=2504;DP=17149;EAS_AF=0;AMR_AF=0;AFR_AF=0;EUR_AF=0.001;SAS_AF=0;AA=G|||;VT=SNP;EX_TARGET</td>\n",
       "    </tr>\n",
       "  </tbody>\n",
       "</table>\n",
       "</div>"
      ],
      "text/plain": [
       "  chrm  start_position  end_position reference_bases alternate_bases  \\\n",
       "0    2           55184         55185               G               A   \n",
       "1    2           95490         95491               C               T   \n",
       "2    2          128457        128458               G               A   \n",
       "3    2          133636        133637               G               A   \n",
       "4    2          218857        218858               G               A   \n",
       "\n",
       "                                                        cosmic_info  \\\n",
       "0                        ID=COSN206912;OCCURENCE=1(large_intestine)   \n",
       "1                  ID=COSN42681;OCCURENCE=4(central_nervous_system)   \n",
       "2  ID=COSN181337,COSN181637;OCCURENCE=1(stomach),2(large_intestine)   \n",
       "3               ID=COSN33464;OCCURENCE=1(breast),1(large_intestine)   \n",
       "4           ID=COSM1404910,COSM1404911;OCCURENCE=1(large_intestine)   \n",
       "\n",
       "                                                                                                                     info  \n",
       "0       AC=60;AF=0.0119808;AN=5008;NS=2504;DP=19415;EAS_AF=0;AMR_AF=0.0043;AFR_AF=0.0431;EUR_AF=0;SAS_AF=0;AA=G|||;VT=SNP  \n",
       "1           AC=17;AF=0.00339457;AN=5008;NS=2504;DP=16854;EAS_AF=0.0169;AMR_AF=0;AFR_AF=0;EUR_AF=0;SAS_AF=0;AA=C|||;VT=SNP  \n",
       "2            AC=1;AF=0.000199681;AN=5008;NS=2504;DP=17605;EAS_AF=0.001;AMR_AF=0;AFR_AF=0;EUR_AF=0;SAS_AF=0;AA=G|||;VT=SNP  \n",
       "3           AC=3;AF=0.000599042;AN=5008;NS=2504;DP=19368;EAS_AF=0;AMR_AF=0;AFR_AF=0;EUR_AF=0;SAS_AF=0.0031;AA=G|||;VT=SNP  \n",
       "4  AC=1;AF=0.000199681;AN=5008;NS=2504;DP=17149;EAS_AF=0;AMR_AF=0;AFR_AF=0;EUR_AF=0.001;SAS_AF=0;AA=G|||;VT=SNP;EX_TARGET  "
      ]
     },
     "execution_count": 7,
     "metadata": {},
     "output_type": "execute_result"
    }
   ],
   "source": [
    "pd.read_sql(\"SELECT A.chrm, A.start_position, A.end_position, A.reference_bases, A.alternate_bases,B.cosmic_info, A.info \"\n",
    "+ \" FROM (SELECT * FROM \\\"default\\\".g1000vcf_csv_int WHERE chrm='2') as A \"\n",
    "+ \" JOIN \"\n",
    "+ \" (SELECT * FROM \\\"1000_genomes\\\".hg19_cosmic68_int WHERE chrm='2') as B \"\n",
    "+ \" ON A.start_position=B.start_position AND A.alternate_bases=B.alternate_bases \"\n",
    "+ \" ORDER By  A.start_position\", conn).head()"
   ]
  },
  {
   "cell_type": "markdown",
   "id": "ff0e97ae",
   "metadata": {
    "id": "ff0e97ae"
   },
   "source": [
    "The returned table tells us information about genes associated with different types of cancers.\n",
    "\n",
    "In the example below, the cancer related to central nervous system is at chromosome 2, where the reference allele is C and alternate allele is T. It appears to only happen to **East Asian** population with a frequency of 1.69% while absent among other populations."
   ]
  },
  {
   "cell_type": "markdown",
   "id": "454c75a5",
   "metadata": {
    "id": "454c75a5"
   },
   "source": [
    "<img src=\"materials/images/example-2.png\"/>"
   ]
  },
  {
   "cell_type": "markdown",
   "id": "3cf54816",
   "metadata": {
    "id": "3cf54816"
   },
   "source": [
    "---"
   ]
  },
  {
   "cell_type": "markdown",
   "id": "ed2e7181",
   "metadata": {
    "id": "ed2e7181"
   },
   "source": [
    "# Interval-Based Annotation [TP53: chrm17]"
   ]
  },
  {
   "cell_type": "markdown",
   "id": "fdf1a4e7",
   "metadata": {
    "id": "fdf1a4e7"
   },
   "source": [
    "The aim of interval-based annotation is to look for overlap of a query variant with a region (this region could be a single position) in annotation databases."
   ]
  },
  {
   "cell_type": "markdown",
   "id": "d75acd23",
   "metadata": {
    "id": "d75acd23"
   },
   "source": [
    "<img src=\"materials/images/overlapping-condition.png\"/>"
   ]
  },
  {
   "cell_type": "markdown",
   "id": "4d7cb4ff",
   "metadata": {
    "id": "4d7cb4ff"
   },
   "source": [
    "<div class=\"alert alert-block alert-info\">\n",
    "<b> Green.start_position[X]<=Blue.end_position[B] AND Blue.start_position[A]<=Green.end_position[Y]</b>\n",
    "\n",
    "Source: https://stackoverflow.com/questions/20981783/how-to-sum-overlapping-interval-parts-in-sql.\n",
    "</div>"
   ]
  },
  {
   "cell_type": "markdown",
   "id": "772209bf",
   "metadata": {
    "id": "772209bf"
   },
   "source": [
    "The code below uses the `JOIN` function to compare two datasets using overlapping condition."
   ]
  },
  {
   "cell_type": "markdown",
   "id": "22aee871",
   "metadata": {
    "id": "22aee871"
   },
   "source": [
    "1. Rather than comparing whether the two datasets are exactly the same, this method focuses on overlapping regions. In the following example, we are running chromosome 17 from the ***1000 Genomes Project*** against gene TP53 from chromosome 17 in the ***UCSC RefGene Annotation*** dataset.\n",
    "2. The `ON` condition is trying to see if there is any overlapping between the two datasets in the selected region. See the graph below:\n"
   ]
  },
  {
   "cell_type": "code",
   "execution_count": 8,
   "id": "be68c6ae",
   "metadata": {
    "id": "be68c6ae"
   },
   "outputs": [
    {
     "name": "stderr",
     "output_type": "stream",
     "text": [
      "/tmp/ipykernel_122/1411853846.py:1: UserWarning: pandas only supports SQLAlchemy connectable (engine/connection) or database string URI or sqlite3 DBAPI2 connection. Other DBAPI2 objects are not tested. Please consider using SQLAlchemy.\n",
      "  pd.read_sql(\"SELECT A.chrm, A.start_position, A.end_position, A.reference_bases, A.alternate_bases,B.name, B.name2, A.info \"\n"
     ]
    },
    {
     "data": {
      "text/html": [
       "<div>\n",
       "<style scoped>\n",
       "    .dataframe tbody tr th:only-of-type {\n",
       "        vertical-align: middle;\n",
       "    }\n",
       "\n",
       "    .dataframe tbody tr th {\n",
       "        vertical-align: top;\n",
       "    }\n",
       "\n",
       "    .dataframe thead th {\n",
       "        text-align: right;\n",
       "    }\n",
       "</style>\n",
       "<table border=\"1\" class=\"dataframe\">\n",
       "  <thead>\n",
       "    <tr style=\"text-align: right;\">\n",
       "      <th></th>\n",
       "      <th>chrm</th>\n",
       "      <th>start_position</th>\n",
       "      <th>end_position</th>\n",
       "      <th>reference_bases</th>\n",
       "      <th>alternate_bases</th>\n",
       "      <th>name</th>\n",
       "      <th>name2</th>\n",
       "      <th>info</th>\n",
       "    </tr>\n",
       "  </thead>\n",
       "  <tbody>\n",
       "    <tr>\n",
       "      <th>0</th>\n",
       "      <td>17</td>\n",
       "      <td>7571751</td>\n",
       "      <td>7571752</td>\n",
       "      <td>T</td>\n",
       "      <td>G</td>\n",
       "      <td>NM_001276697</td>\n",
       "      <td>TP53</td>\n",
       "      <td>AC=13;AF=0.00259585;AN=5008;NS=2504;DP=19133;EAS_AF=0;AMR_AF=0;AFR_AF=0;EUR_AF=0.0129;SAS_AF=0;AA=T|||;VT=SNP</td>\n",
       "    </tr>\n",
       "    <tr>\n",
       "      <th>1</th>\n",
       "      <td>17</td>\n",
       "      <td>7571751</td>\n",
       "      <td>7571752</td>\n",
       "      <td>T</td>\n",
       "      <td>G</td>\n",
       "      <td>NM_001126115</td>\n",
       "      <td>TP53</td>\n",
       "      <td>AC=13;AF=0.00259585;AN=5008;NS=2504;DP=19133;EAS_AF=0;AMR_AF=0;AFR_AF=0;EUR_AF=0.0129;SAS_AF=0;AA=T|||;VT=SNP</td>\n",
       "    </tr>\n",
       "    <tr>\n",
       "      <th>2</th>\n",
       "      <td>17</td>\n",
       "      <td>7571751</td>\n",
       "      <td>7571752</td>\n",
       "      <td>T</td>\n",
       "      <td>G</td>\n",
       "      <td>NM_001126117</td>\n",
       "      <td>TP53</td>\n",
       "      <td>AC=13;AF=0.00259585;AN=5008;NS=2504;DP=19133;EAS_AF=0;AMR_AF=0;AFR_AF=0;EUR_AF=0.0129;SAS_AF=0;AA=T|||;VT=SNP</td>\n",
       "    </tr>\n",
       "    <tr>\n",
       "      <th>3</th>\n",
       "      <td>17</td>\n",
       "      <td>7571751</td>\n",
       "      <td>7571752</td>\n",
       "      <td>T</td>\n",
       "      <td>G</td>\n",
       "      <td>NM_001276699</td>\n",
       "      <td>TP53</td>\n",
       "      <td>AC=13;AF=0.00259585;AN=5008;NS=2504;DP=19133;EAS_AF=0;AMR_AF=0;AFR_AF=0;EUR_AF=0.0129;SAS_AF=0;AA=T|||;VT=SNP</td>\n",
       "    </tr>\n",
       "    <tr>\n",
       "      <th>4</th>\n",
       "      <td>17</td>\n",
       "      <td>7571751</td>\n",
       "      <td>7571752</td>\n",
       "      <td>T</td>\n",
       "      <td>G</td>\n",
       "      <td>NM_001126116</td>\n",
       "      <td>TP53</td>\n",
       "      <td>AC=13;AF=0.00259585;AN=5008;NS=2504;DP=19133;EAS_AF=0;AMR_AF=0;AFR_AF=0;EUR_AF=0.0129;SAS_AF=0;AA=T|||;VT=SNP</td>\n",
       "    </tr>\n",
       "  </tbody>\n",
       "</table>\n",
       "</div>"
      ],
      "text/plain": [
       "  chrm  start_position  end_position reference_bases alternate_bases  \\\n",
       "0   17         7571751       7571752               T               G   \n",
       "1   17         7571751       7571752               T               G   \n",
       "2   17         7571751       7571752               T               G   \n",
       "3   17         7571751       7571752               T               G   \n",
       "4   17         7571751       7571752               T               G   \n",
       "\n",
       "           name name2  \\\n",
       "0  NM_001276697  TP53   \n",
       "1  NM_001126115  TP53   \n",
       "2  NM_001126117  TP53   \n",
       "3  NM_001276699  TP53   \n",
       "4  NM_001126116  TP53   \n",
       "\n",
       "                                                                                                            info  \n",
       "0  AC=13;AF=0.00259585;AN=5008;NS=2504;DP=19133;EAS_AF=0;AMR_AF=0;AFR_AF=0;EUR_AF=0.0129;SAS_AF=0;AA=T|||;VT=SNP  \n",
       "1  AC=13;AF=0.00259585;AN=5008;NS=2504;DP=19133;EAS_AF=0;AMR_AF=0;AFR_AF=0;EUR_AF=0.0129;SAS_AF=0;AA=T|||;VT=SNP  \n",
       "2  AC=13;AF=0.00259585;AN=5008;NS=2504;DP=19133;EAS_AF=0;AMR_AF=0;AFR_AF=0;EUR_AF=0.0129;SAS_AF=0;AA=T|||;VT=SNP  \n",
       "3  AC=13;AF=0.00259585;AN=5008;NS=2504;DP=19133;EAS_AF=0;AMR_AF=0;AFR_AF=0;EUR_AF=0.0129;SAS_AF=0;AA=T|||;VT=SNP  \n",
       "4  AC=13;AF=0.00259585;AN=5008;NS=2504;DP=19133;EAS_AF=0;AMR_AF=0;AFR_AF=0;EUR_AF=0.0129;SAS_AF=0;AA=T|||;VT=SNP  "
      ]
     },
     "execution_count": 8,
     "metadata": {},
     "output_type": "execute_result"
    }
   ],
   "source": [
    "pd.read_sql(\"SELECT A.chrm, A.start_position, A.end_position, A.reference_bases, A.alternate_bases,B.name, B.name2, A.info \"\n",
    "+ \" FROM (SELECT * FROM \\\"default\\\".g1000vcf_csv_int WHERE chrm='17') as A \"\n",
    "+ \" JOIN \"\n",
    "+ \" (SELECT * FROM \\\"1000_genomes\\\".hg19_ucsc_refgene_int WHERE chrm='17' and name2='TP53') as B \"\n",
    "+ \" ON A.start_position<=B.end_position AND B.start_position<=A.end_position \"\n",
    "+ \" ORDER By  A.start_position\", conn).head()"
   ]
  },
  {
   "cell_type": "markdown",
   "id": "2e871602",
   "metadata": {
    "id": "2e871602"
   },
   "source": [
    "<img src=\"materials/images/conductor.png\"/>"
   ]
  },
  {
   "cell_type": "markdown",
   "id": "2ed7a679",
   "metadata": {
    "id": "2ed7a679"
   },
   "source": [
    "For your information, TP53 gene provides instructions for making a protein called tumor protein p53 (or p53). This protein acts as a tumor suppressor, which means that it regulates cell division by keeping cells from growing and dividing (proliferating) too fast, or in an uncontrolled way. TP53 acts like a conductor in an orchestra."
   ]
  },
  {
   "cell_type": "markdown",
   "id": "feed3754",
   "metadata": {
    "id": "feed3754"
   },
   "source": [
    "The table gives us a view of all the mutations on gene TP53 on chromosome 2. Typically, mutations on TP53 are considered as rare mutations."
   ]
  },
  {
   "cell_type": "markdown",
   "id": "629e1248",
   "metadata": {
    "id": "629e1248"
   },
   "source": [
    "---"
   ]
  },
  {
   "cell_type": "markdown",
   "id": "e39433dd",
   "metadata": {
    "id": "e39433dd"
   },
   "source": [
    "# Contributions & acknowledgement"
   ]
  },
  {
   "cell_type": "markdown",
   "id": "a1b11e03",
   "metadata": {
    "id": "a1b11e03"
   },
   "source": [
    "Thank the following team for working on this module:\n",
    "\n",
    "- **Module Content**: Amir Bahmani\n",
    "- **Engineering**: Amit Dixit\n",
    "- **UX/UI Design & Illustration**: Kexin Cha\n",
    "- **Video Production**: Francesca Goncalves\n",
    "- **Project Management**: Amir Bahmani, Kexin Cha"
   ]
  },
  {
   "cell_type": "markdown",
   "id": "df6e5f8b",
   "metadata": {
    "id": "df6e5f8b"
   },
   "source": [
    "---"
   ]
  },
  {
   "cell_type": "markdown",
   "id": "a6c76386",
   "metadata": {
    "id": "a6c76386"
   },
   "source": [
    "Copyright (c) 2022 Stanford Data Ocean (SDO)\n",
    "\n",
    "All rights reserved."
   ]
  }
 ],
 "metadata": {
  "colab": {
   "provenance": []
  },
  "kernelspec": {
   "display_name": "Python 3 (ipykernel)",
   "language": "python",
   "name": "python3"
  },
  "language_info": {
   "codemirror_mode": {
    "name": "ipython",
    "version": 3
   },
   "file_extension": ".py",
   "mimetype": "text/x-python",
   "name": "python",
   "nbconvert_exporter": "python",
   "pygments_lexer": "ipython3",
   "version": "3.10.13"
  }
 },
 "nbformat": 4,
 "nbformat_minor": 5
}
