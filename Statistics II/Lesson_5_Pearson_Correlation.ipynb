{
 "cells": [
  {
   "cell_type": "markdown",
   "id": "5bde2b6a",
   "metadata": {
    "id": "5bde2b6a"
   },
   "source": [
    "<img src=\"materials/images/introduction-to-statistics-II-cover.png\"/>"
   ]
  },
  {
   "cell_type": "markdown",
   "id": "a2ac29cb",
   "metadata": {
    "id": "a2ac29cb"
   },
   "source": [
    "\n",
    "# 👋 Welcome, before you start\n",
    "<br>\n",
    "\n",
    "### 📚 Module overview\n",
    "\n",
    "We will go through eleven lessons with you:\n",
    "    \n",
    "- [**Lesson 1: Z-score**](Lesson_1_Z-score.ipynb)\n",
    "\n",
    "- [**Lesson 2: P-value**](Lesson_2_P-value.ipynb)\n",
    "\n",
    "- [**Lesson 3: Lesson 3: Welchs T-test**](Lesson_3_Welchs_T-test.ipynb)\n",
    "\n",
    "- [**Lesson 4: Log2 Fold Change**](Lesson_4_Log2_Fold_Change.ipynb)\n",
    "\n",
    "- <font color=#E98300>**Lesson 5: Pearson Correlation**</font>    `📍You are here.`\n",
    "\n",
    "- [**Lesson 6: Spearman Correlation**](Lesson_6_Spearman_Correlation.ipynb)\n",
    "\n",
    "- [**Lesson 7: False Discovery Rate**](Lesson_7_False_Discovery_Rate.ipynb)\n",
    "\n",
    "- [**Lesson 8: Benjamini Hochberg**](Lesson_8_Benjamini_Hochberg.ipynb)\n",
    "\n",
    "- [**Lesson 9: Dimensionality Reduction Methods: Principal Component Analysis**](Lesson_9_Dimensionality_Reduction_Methods_Principal_Component_Analysis.ipynb)\n",
    "\n",
    "- [**Lesson 10: Dimensionality Reduction Methods: t-SNE**](Lesson_10_Dimensionality_Reduction_Methods_t-SNE.ipynb)\n",
    "\n",
    "- [**Lesson 11: UMAP**](Lesson_11_UMAP.ipynb)\n",
    "</br>\n",
    "\n",
    "\n",
    "\n",
    "<div class=\"alert alert-block alert-info\">\n",
    "<h3>⌨️ Keyboard shortcut</h3>\n",
    "\n",
    "These common shortcut could save your time going through this notebook:\n",
    "- Run the current cell: **`Enter + Shift`**.\n",
    "- Add a cell above the current cell: Press **`A`**.\n",
    "- Add a cell below the current cell: Press **`B`**.\n",
    "- Change a code cell to markdown cell: Select the cell, and then press **`M`**.\n",
    "- Delete a cell: Press **`D`** twice.\n",
    "\n",
    "Need more help with keyboard shortcut? Press **`H`** to look it up.\n",
    "</div>"
   ]
  },
  {
   "cell_type": "markdown",
   "id": "ef0d3b98",
   "metadata": {
    "id": "ef0d3b98"
   },
   "source": [
    "---"
   ]
  },
  {
   "cell_type": "markdown",
   "id": "74694544",
   "metadata": {
    "id": "74694544"
   },
   "source": [
    "# Lesson 5: Pearson Correlation"
   ]
  },
  {
   "cell_type": "markdown",
   "id": "5e09a2af",
   "metadata": {
    "id": "5e09a2af"
   },
   "source": [
    "`🕒 This module should take about 15 minutes to complete.`\n",
    "\n",
    "`✍️ This notebook is written using Python.`"
   ]
  },
  {
   "cell_type": "markdown",
   "id": "f86f5e09",
   "metadata": {
    "id": "f86f5e09"
   },
   "source": [
    "Correlation between sets of data is a measure of how well they are related. The <mark>**Pearson product-moment correlation coefficient**</mark> (or Pearson correlation coefficient) is a measure of the strength of a linear association between two variables and is denoted by <mark>**r**</mark>. \n",
    "\n",
    "Basically, a Pearson correlation attempts to draw a line of best fit through the data of two variables, and the Pearson correlation coefficient indicates how close all of the data points are to this line. In order to use Pearson correlation coefficient, the two variables have to be quantitative (measured on either an interval or ratio scale). However, both variables do not need to be measured on the same scale: one variable can be ratio, and the other can be interval. "
   ]
  },
  {
   "cell_type": "markdown",
   "id": "e2f86468",
   "metadata": {
    "id": "e2f86468"
   },
   "source": [
    "A correlation coefficient indicates the extent to which dots in a scatterplot lie on a straight line. The figure below illustrates this point."
   ]
  },
  {
   "cell_type": "markdown",
   "id": "ebc95608",
   "metadata": {
    "id": "ebc95608"
   },
   "source": [
    "<img src=\"materials/images/images_pearson_correlation/corr.png\"/>"
   ]
  },
  {
   "cell_type": "markdown",
   "id": "3e6c173d",
   "metadata": {
    "id": "3e6c173d"
   },
   "source": [
    "---"
   ]
  },
  {
   "cell_type": "markdown",
   "id": "9ffae95f",
   "metadata": {
    "id": "9ffae95f"
   },
   "source": [
    "## How to determine the strength of association based on the correlation coefficient"
   ]
  },
  {
   "cell_type": "markdown",
   "id": "f64ec8f0",
   "metadata": {
    "id": "f64ec8f0"
   },
   "source": [
    "The Pearson correlation coefficient, **r**, can take a range of values from +1 to -1. \n",
    "\n",
    "A value of 0 indicates that there is no association between the two variables. \n",
    "\n",
    "A value greater than 0 indicates a positive association. As the value of one variable increases, so does the value of the other variable). \n",
    "\n",
    "A value less than 0 indicates a negative association. As the value of one variable increases, the value of the other variable decreases."
   ]
  },
  {
   "cell_type": "markdown",
   "id": "8cd29d3b",
   "metadata": {
    "id": "8cd29d3b"
   },
   "source": [
    "### Guidelines for interpreting Pearson correlation coefficient:"
   ]
  },
  {
   "cell_type": "markdown",
   "id": "9a5bea91",
   "metadata": {
    "id": "9a5bea91"
   },
   "source": [
    "<img src=\"materials/images/images_pearson_correlation/coef_table.png\"/>"
   ]
  },
  {
   "cell_type": "markdown",
   "id": "9e086b38",
   "metadata": {
    "id": "9e086b38"
   },
   "source": [
    "The stronger the association between two variables, the closer the Pearson correlation coefficient, r, will be to either +1 or -1, depending on whether the relationship is positive or negative, respectively. \n",
    "\n",
    "Achieving a value of +1 or -1 means that all of your data points are included on the line of best fit-- there are no data points that shows any variation away from this line, as shown in the figure below."
   ]
  },
  {
   "cell_type": "markdown",
   "id": "0b240233",
   "metadata": {
    "id": "0b240233"
   },
   "source": [
    "### Perfect correlation: r of 1"
   ]
  },
  {
   "cell_type": "markdown",
   "id": "37b03fb2",
   "metadata": {
    "id": "37b03fb2"
   },
   "source": [
    "<img src=\"materials/images/images_pearson_correlation/corr_1.png\"/>"
   ]
  },
  {
   "cell_type": "markdown",
   "id": "ba0aac74",
   "metadata": {
    "id": "ba0aac74"
   },
   "source": [
    "<div class=\"alert alert-block alert-warning\">\n",
    "    <b>Alert:</b> It is important to note that the Pearson correlation coefficient, r, does not represent the slope of the line of best fit. Therefore, if you get a Pearson correlation coefficient of +1, this does not mean that for every unit increase in one variable, there is a unit increase in another. It simply means that there is no variation between the data points, and the line of best fit.\n",
    "</div>"
   ]
  },
  {
   "cell_type": "markdown",
   "id": "f8acc07b",
   "metadata": {
    "id": "f8acc07b"
   },
   "source": [
    "Values for r between +1 and -1 (for example, r = 0.7 or -0.3) indicate that there is variation around the line of best fit. The closer the value of r to 0, the greater the variation around the line of best fit. "
   ]
  },
  {
   "cell_type": "markdown",
   "id": "d2615cdb",
   "metadata": {
    "id": "d2615cdb"
   },
   "source": [
    "<img src=\"materials/images/images_pearson_correlation/scatterplots.png\"/>"
   ]
  },
  {
   "cell_type": "markdown",
   "id": "de93c59c",
   "metadata": {
    "id": "de93c59c"
   },
   "source": [
    "---"
   ]
  },
  {
   "cell_type": "markdown",
   "id": "3b6f2e59",
   "metadata": {
    "id": "3b6f2e59"
   },
   "source": [
    "# Correlation Example"
   ]
  },
  {
   "cell_type": "markdown",
   "id": "49b36dd7",
   "metadata": {
    "id": "49b36dd7"
   },
   "source": [
    "<img src=\"materials/images/images_pearson_correlation/gpa_gre.png\"/>"
   ]
  },
  {
   "cell_type": "markdown",
   "id": "d24dd6d7",
   "metadata": {
    "id": "d24dd6d7"
   },
   "source": [
    "To explore correlation, we will import data of students who applied to a graduate program, and inspect the relationship between their GPA and GRE Scores. "
   ]
  },
  {
   "cell_type": "markdown",
   "id": "9c4bb99d",
   "metadata": {
    "id": "9c4bb99d"
   },
   "source": [
    "### ✅ `Run` each of the cells below:"
   ]
  },
  {
   "cell_type": "code",
   "execution_count": 1,
   "id": "xBsvBr9p5PiS",
   "metadata": {
    "id": "xBsvBr9p5PiS"
   },
   "outputs": [],
   "source": [
    "import pandas as pd\n",
    "import matplotlib.pyplot as plt\n",
    "import seaborn as sns"
   ]
  },
  {
   "cell_type": "code",
   "execution_count": 2,
   "id": "babded53",
   "metadata": {
    "id": "babded53"
   },
   "outputs": [
    {
     "data": {
      "text/html": [
       "<div>\n",
       "<style scoped>\n",
       "    .dataframe tbody tr th:only-of-type {\n",
       "        vertical-align: middle;\n",
       "    }\n",
       "\n",
       "    .dataframe tbody tr th {\n",
       "        vertical-align: top;\n",
       "    }\n",
       "\n",
       "    .dataframe thead th {\n",
       "        text-align: right;\n",
       "    }\n",
       "</style>\n",
       "<table border=\"1\" class=\"dataframe\">\n",
       "  <thead>\n",
       "    <tr style=\"text-align: right;\">\n",
       "      <th></th>\n",
       "      <th>Serial No.</th>\n",
       "      <th>GRE Score</th>\n",
       "      <th>TOEFL Score</th>\n",
       "      <th>University Rating</th>\n",
       "      <th>SOP</th>\n",
       "      <th>LOR</th>\n",
       "      <th>GPA</th>\n",
       "      <th>Research</th>\n",
       "      <th>Admitted</th>\n",
       "    </tr>\n",
       "  </thead>\n",
       "  <tbody>\n",
       "    <tr>\n",
       "      <th>0</th>\n",
       "      <td>1</td>\n",
       "      <td>337</td>\n",
       "      <td>118</td>\n",
       "      <td>4</td>\n",
       "      <td>4.5</td>\n",
       "      <td>4.5</td>\n",
       "      <td>3.89</td>\n",
       "      <td>1</td>\n",
       "      <td>Yes</td>\n",
       "    </tr>\n",
       "    <tr>\n",
       "      <th>1</th>\n",
       "      <td>2</td>\n",
       "      <td>324</td>\n",
       "      <td>107</td>\n",
       "      <td>4</td>\n",
       "      <td>4.0</td>\n",
       "      <td>4.5</td>\n",
       "      <td>3.58</td>\n",
       "      <td>1</td>\n",
       "      <td>Yes</td>\n",
       "    </tr>\n",
       "    <tr>\n",
       "      <th>2</th>\n",
       "      <td>3</td>\n",
       "      <td>316</td>\n",
       "      <td>104</td>\n",
       "      <td>3</td>\n",
       "      <td>3.0</td>\n",
       "      <td>3.5</td>\n",
       "      <td>3.23</td>\n",
       "      <td>1</td>\n",
       "      <td>No</td>\n",
       "    </tr>\n",
       "    <tr>\n",
       "      <th>3</th>\n",
       "      <td>4</td>\n",
       "      <td>322</td>\n",
       "      <td>110</td>\n",
       "      <td>3</td>\n",
       "      <td>3.5</td>\n",
       "      <td>2.5</td>\n",
       "      <td>3.50</td>\n",
       "      <td>1</td>\n",
       "      <td>Yes</td>\n",
       "    </tr>\n",
       "    <tr>\n",
       "      <th>4</th>\n",
       "      <td>5</td>\n",
       "      <td>314</td>\n",
       "      <td>103</td>\n",
       "      <td>2</td>\n",
       "      <td>2.0</td>\n",
       "      <td>3.0</td>\n",
       "      <td>3.31</td>\n",
       "      <td>0</td>\n",
       "      <td>No</td>\n",
       "    </tr>\n",
       "  </tbody>\n",
       "</table>\n",
       "</div>"
      ],
      "text/plain": [
       "   Serial No.  GRE Score  TOEFL Score  University Rating  SOP  LOR    GPA  \\\n",
       "0           1        337          118                  4  4.5   4.5  3.89   \n",
       "1           2        324          107                  4  4.0   4.5  3.58   \n",
       "2           3        316          104                  3  3.0   3.5  3.23   \n",
       "3           4        322          110                  3  3.5   2.5  3.50   \n",
       "4           5        314          103                  2  2.0   3.0  3.31   \n",
       "\n",
       "   Research Admitted  \n",
       "0         1      Yes  \n",
       "1         1      Yes  \n",
       "2         1       No  \n",
       "3         1      Yes  \n",
       "4         0       No  "
      ]
     },
     "execution_count": 2,
     "metadata": {},
     "output_type": "execute_result"
    }
   ],
   "source": [
    "df = pd.read_csv(\"data/data_pearson_correlation/grad_admit.csv\")\n",
    "\n",
    "# Preview the first 5 rows\n",
    "df.head()"
   ]
  },
  {
   "cell_type": "markdown",
   "id": "03ab6337",
   "metadata": {
    "id": "03ab6337"
   },
   "source": [
    "### Pearson correlation coefficient (r)"
   ]
  },
  {
   "cell_type": "markdown",
   "id": "de1d27ba",
   "metadata": {
    "id": "de1d27ba"
   },
   "source": [
    "Let's run a Pearson correlation between GPA and GRE Score to get the coefficient (**r**)."
   ]
  },
  {
   "cell_type": "code",
   "execution_count": 3,
   "id": "03fefff4",
   "metadata": {
    "id": "03fefff4"
   },
   "outputs": [
    {
     "data": {
      "text/html": [
       "<div>\n",
       "<style scoped>\n",
       "    .dataframe tbody tr th:only-of-type {\n",
       "        vertical-align: middle;\n",
       "    }\n",
       "\n",
       "    .dataframe tbody tr th {\n",
       "        vertical-align: top;\n",
       "    }\n",
       "\n",
       "    .dataframe thead th {\n",
       "        text-align: right;\n",
       "    }\n",
       "</style>\n",
       "<table border=\"1\" class=\"dataframe\">\n",
       "  <thead>\n",
       "    <tr style=\"text-align: right;\">\n",
       "      <th></th>\n",
       "      <th>GPA</th>\n",
       "      <th>GRE Score</th>\n",
       "    </tr>\n",
       "  </thead>\n",
       "  <tbody>\n",
       "    <tr>\n",
       "      <th>GPA</th>\n",
       "      <td>1.000000</td>\n",
       "      <td>0.832669</td>\n",
       "    </tr>\n",
       "    <tr>\n",
       "      <th>GRE Score</th>\n",
       "      <td>0.832669</td>\n",
       "      <td>1.000000</td>\n",
       "    </tr>\n",
       "  </tbody>\n",
       "</table>\n",
       "</div>"
      ],
      "text/plain": [
       "                GPA  GRE Score\n",
       "GPA        1.000000   0.832669\n",
       "GRE Score  0.832669   1.000000"
      ]
     },
     "execution_count": 3,
     "metadata": {},
     "output_type": "execute_result"
    }
   ],
   "source": [
    "df[[\"GPA\", \"GRE Score\"]].corr()"
   ]
  },
  {
   "cell_type": "markdown",
   "id": "aba55ae8",
   "metadata": {
    "id": "aba55ae8"
   },
   "source": [
    "As one might expect, the applicants' GPA and GRE Scores are closely related. An <mark>**r**</mark> of .83 indicates a very strong correlation. "
   ]
  },
  {
   "cell_type": "markdown",
   "id": "5d6a1f72",
   "metadata": {
    "id": "5d6a1f72"
   },
   "source": [
    "### Visualize the relationship"
   ]
  },
  {
   "cell_type": "markdown",
   "id": "fcf7095c",
   "metadata": {
    "id": "fcf7095c"
   },
   "source": [
    "Let's visualize the relationship by creating a scatterplot with a best-fit line for these two variables. Each applicant is represented by a dot. The horizontal position of each dot represents the applicant's GPA, and the vertical position indicates the GRE Score. The result is shown below."
   ]
  },
  {
   "cell_type": "code",
   "execution_count": 4,
   "id": "4cb4b040",
   "metadata": {
    "id": "4cb4b040"
   },
   "outputs": [
    {
     "data": {
      "image/png": "[encoded data removed]",
      "text/plain": [
       "<Figure size 640x480 with 1 Axes>"
      ]
     },
     "metadata": {},
     "output_type": "display_data"
    }
   ],
   "source": [
    "sns.regplot(data=df, color = \"#B83A4B\", x=\"GPA\", y=\"GRE Score\")\n",
    "plt.show();"
   ]
  },
  {
   "cell_type": "markdown",
   "id": "ac69c585",
   "metadata": {
    "id": "ac69c585"
   },
   "source": [
    "As can be confirmed visually, there is a strong relationship between GPA and GRE Score. As GPA increases so does GRE Score, in a significant way, which indicates a strong correlation. \n",
    "\n",
    "Remember, the **Pearson correlation** is an indication of to what degree the data points lie on a best-fit straight line. In our example, there is some variability from the line but the points are moving in a strong linear direction. The **coefficient** is a number that **measures the exact strength of this relationship**. "
   ]
  },
  {
   "cell_type": "markdown",
   "id": "29209b1c",
   "metadata": {
    "id": "29209b1c"
   },
   "source": [
    "---"
   ]
  },
  {
   "cell_type": "markdown",
   "id": "69e3149f",
   "metadata": {
    "id": "69e3149f"
   },
   "source": [
    "# 🌟 Ready for the next one?\n",
    "<br>\n",
    "\n",
    "- [**Lesson 6: Spearman Correlation**](Lesson_6_Spearman_Correlation.ipynb)\n",
    "\n",
    "- [**Lesson 7: False Discovery Rate**](Lesson_7_False_Discovery_Rate.ipynb)\n",
    "\n",
    "- [**Lesson 8: Benjamini Hochberg**](Lesson_8_Benjamini_Hochberg.ipynb)\n",
    "\n",
    "- [**Lesson 9: Dimensionality Reduction Methods: Principal Component Analysis**](Lesson_9_Dimensionality_Reduction_Methods_Principal_Component_Analysis.ipynb)\n",
    "\n",
    "- [**Lesson 10: Dimensionality Reduction Methods: t-SNE**](Lesson_10_Dimensionality_Reduction_Methods_t-SNE.ipynb)\n",
    "\n",
    "- [**Lesson 11: UMAP**](Lesson_11_UMAP.ipynb)\n",
    "</br>"
   ]
  },
  {
   "cell_type": "markdown",
   "id": "001556c0",
   "metadata": {
    "id": "001556c0"
   },
   "source": [
    "---"
   ]
  },
  {
   "cell_type": "markdown",
   "id": "afe68e99",
   "metadata": {
    "id": "afe68e99"
   },
   "source": [
    "# Contributions & acknowledgment"
   ]
  },
  {
   "cell_type": "markdown",
   "id": "190726d9",
   "metadata": {
    "id": "190726d9"
   },
   "source": [
    "Thanks Antony Ross for contributing the content for this notebook."
   ]
  },
  {
   "cell_type": "markdown",
   "id": "2a6a7461",
   "metadata": {
    "id": "2a6a7461"
   },
   "source": [
    "---"
   ]
  },
  {
   "cell_type": "markdown",
   "id": "971e31d1",
   "metadata": {
    "id": "971e31d1"
   },
   "source": [
    "Copyright (c) 2022 Stanford Data Ocean (SDO)\n",
    "\n",
    "All rights reserved."
   ]
  }
 ],
 "metadata": {
  "colab": {
   "provenance": []
  },
  "kernelspec": {
   "display_name": "Python 3 (ipykernel)",
   "language": "python",
   "name": "python3"
  },
  "language_info": {
   "codemirror_mode": {
    "name": "ipython",
    "version": 3
   },
   "file_extension": ".py",
   "mimetype": "text/x-python",
   "name": "python",
   "nbconvert_exporter": "python",
   "pygments_lexer": "ipython3",
   "version": "3.10.11"
  }
 },
 "nbformat": 4,
 "nbformat_minor": 5
}
