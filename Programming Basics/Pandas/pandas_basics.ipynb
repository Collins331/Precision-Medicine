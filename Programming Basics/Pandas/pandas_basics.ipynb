{
 "cells": [
  {
   "cell_type": "markdown",
   "id": "295a74b6",
   "metadata": {},
   "source": [
    "# Pandas"
   ]
  },
  {
   "cell_type": "code",
   "execution_count": 11,
   "id": "b757ef58",
   "metadata": {},
   "outputs": [],
   "source": [
    "# import pandas\n",
    "import pandas as pd"
   ]
  },
  {
   "cell_type": "markdown",
   "id": "da5d8622",
   "metadata": {},
   "source": [
    "## Series\n",
    "\n",
    "**A Series** is a ***one-dimensional object*** containing a sequence of values, very similar to a column of data in an Excel spreadsheet. The Series data structure has an associated index which can be either numbers, or strings (ie. named labels). "
   ]
  },
  {
   "cell_type": "code",
   "execution_count": 12,
   "id": "3e7889e9",
   "metadata": {},
   "outputs": [
    {
     "data": {
      "text/plain": [
       "0    45\n",
       "1    67\n",
       "2    98\n",
       "3    23\n",
       "4    17\n",
       "dtype: int64"
      ]
     },
     "execution_count": 12,
     "metadata": {},
     "output_type": "execute_result"
    }
   ],
   "source": [
    "marks_series = pd.Series([45, 67, 98, 23, 17])\n",
    "\n",
    "marks_series"
   ]
  },
  {
   "cell_type": "code",
   "execution_count": 13,
   "id": "5e696ec6",
   "metadata": {},
   "outputs": [
    {
     "data": {
      "text/plain": [
       "0    45\n",
       "1    67\n",
       "dtype: int64"
      ]
     },
     "execution_count": 13,
     "metadata": {},
     "output_type": "execute_result"
    }
   ],
   "source": [
    "marks_series[0:2]"
   ]
  },
  {
   "cell_type": "markdown",
   "id": "7ddee1d0",
   "metadata": {},
   "source": [
    "### Using named labels\n",
    "A label can be used to identify each data point (row) by providing a list of the desired labels to the index property of the Series object."
   ]
  },
  {
   "cell_type": "code",
   "execution_count": 14,
   "id": "6c8839d3",
   "metadata": {},
   "outputs": [
    {
     "data": {
      "text/plain": [
       "John       76\n",
       "Alex       78\n",
       "Elon       67\n",
       "Jacinta    93\n",
       "Lily       81\n",
       "dtype: int64"
      ]
     },
     "execution_count": 14,
     "metadata": {},
     "output_type": "execute_result"
    }
   ],
   "source": [
    "marks_update = pd.Series([76, 78, 67, 93, 81], index=['John', 'Alex', 'Elon', 'Jacinta', 'Lily'])\n",
    "\n",
    "marks_update"
   ]
  },
  {
   "cell_type": "code",
   "execution_count": 15,
   "id": "4b304ca6",
   "metadata": {},
   "outputs": [
    {
     "data": {
      "text/plain": [
       "John       76\n",
       "Alex       78\n",
       "Elon       67\n",
       "Jacinta    93\n",
       "dtype: int64"
      ]
     },
     "execution_count": 15,
     "metadata": {},
     "output_type": "execute_result"
    }
   ],
   "source": [
    "# Accessing labelled series\n",
    "marks_update['John':'Jacinta'] # inclusive"
   ]
  },
  {
   "cell_type": "code",
   "execution_count": 16,
   "id": "ba09c893",
   "metadata": {},
   "outputs": [
    {
     "data": {
      "text/plain": [
       "John       76\n",
       "Alex       78\n",
       "Elon       67\n",
       "Jacinta    93\n",
       "dtype: int64"
      ]
     },
     "execution_count": 16,
     "metadata": {},
     "output_type": "execute_result"
    }
   ],
   "source": [
    "marks_update[0:4] # exclusive"
   ]
  },
  {
   "cell_type": "markdown",
   "id": "8073f97f",
   "metadata": {},
   "source": [
    "# Elementwise operations\n"
   ]
  },
  {
   "cell_type": "code",
   "execution_count": 18,
   "id": "a0e40194",
   "metadata": {},
   "outputs": [
    {
     "data": {
      "text/plain": [
       "John       79.80\n",
       "Alex       81.90\n",
       "Elon       70.35\n",
       "Jacinta    97.65\n",
       "Lily       85.05\n",
       "dtype: float64"
      ]
     },
     "execution_count": 18,
     "metadata": {},
     "output_type": "execute_result"
    }
   ],
   "source": [
    "# Multiplication\n",
    "marks_update * 1.05"
   ]
  },
  {
   "cell_type": "code",
   "execution_count": 19,
   "id": "e9cd1b4c",
   "metadata": {},
   "outputs": [
    {
     "data": {
      "text/plain": [
       "John       79\n",
       "Alex       81\n",
       "Elon       70\n",
       "Jacinta    96\n",
       "Lily       84\n",
       "dtype: int64"
      ]
     },
     "execution_count": 19,
     "metadata": {},
     "output_type": "execute_result"
    }
   ],
   "source": [
    "# Addition\n",
    "marks_update + 3"
   ]
  },
  {
   "cell_type": "code",
   "execution_count": 24,
   "id": "f8739684",
   "metadata": {},
   "outputs": [
    {
     "data": {
      "text/plain": [
       "Alex        95\n",
       "Elon        87\n",
       "Jacinta    115\n",
       "John        88\n",
       "Lily        95\n",
       "dtype: int64"
      ]
     },
     "execution_count": 24,
     "metadata": {},
     "output_type": "execute_result"
    }
   ],
   "source": [
    "# series addition\n",
    "cat_marks = pd.Series([12, 14, 22, 17, 20], index=['John', 'Lily', 'Jacinta', 'Alex', 'Elon'])\n",
    "\n",
    "new_marks = marks_update + cat_marks\n",
    "\n",
    "# Not the order of index does not matter but they must existing in the first series\n",
    "\n",
    "new_marks"
   ]
  },
  {
   "cell_type": "code",
   "execution_count": 25,
   "id": "7cf37ec0",
   "metadata": {},
   "outputs": [
    {
     "data": {
      "text/plain": [
       "Alex        True\n",
       "Elon        True\n",
       "Jacinta    False\n",
       "John        True\n",
       "Lily        True\n",
       "dtype: bool"
      ]
     },
     "execution_count": 25,
     "metadata": {},
     "output_type": "execute_result"
    }
   ],
   "source": [
    "# Boolean selection\n",
    "new_marks < 100"
   ]
  },
  {
   "cell_type": "code",
   "execution_count": 26,
   "id": "4a1c19ef",
   "metadata": {},
   "outputs": [
    {
     "data": {
      "text/plain": [
       "Alex        95\n",
       "Jacinta    115\n",
       "Lily        95\n",
       "dtype: int64"
      ]
     },
     "execution_count": 26,
     "metadata": {},
     "output_type": "execute_result"
    }
   ],
   "source": [
    "# selecting the data that is true based on the condition\n",
    "new_marks[new_marks > 90]"
   ]
  },
  {
   "cell_type": "markdown",
   "id": "189c69e4",
   "metadata": {},
   "source": [
    "## DataFrame\n",
    "\n",
    "The **DataFrame** is another data structure in pandas. A DataFrame is a ***two-dimensional*** array of values. Much like an Excel spreadsheet, it is a rectangular table of columns and rows with both a row index and a column index. It can, somewhat, be thought of as a collection of Series objects, each of which can have a different data type (e.g., strings, numbers). \n",
    "\n",
    "Typically, pandas will import data (e.g., from a csv file) as a DataFrame. However, a DataFrame may be constructed, for example, by using a dictionary (key/value pairs) with the key being the column name and the value being a list of row values."
   ]
  },
  {
   "cell_type": "code",
   "execution_count": 30,
   "id": "47cfaf5a",
   "metadata": {},
   "outputs": [
    {
     "data": {
      "text/html": [
       "<div>\n",
       "<style scoped>\n",
       "    .dataframe tbody tr th:only-of-type {\n",
       "        vertical-align: middle;\n",
       "    }\n",
       "\n",
       "    .dataframe tbody tr th {\n",
       "        vertical-align: top;\n",
       "    }\n",
       "\n",
       "    .dataframe thead th {\n",
       "        text-align: right;\n",
       "    }\n",
       "</style>\n",
       "<table border=\"1\" class=\"dataframe\">\n",
       "  <thead>\n",
       "    <tr style=\"text-align: right;\">\n",
       "      <th></th>\n",
       "      <th>name</th>\n",
       "      <th>gender</th>\n",
       "      <th>age</th>\n",
       "    </tr>\n",
       "  </thead>\n",
       "  <tbody>\n",
       "    <tr>\n",
       "      <th>0</th>\n",
       "      <td>Aloyce</td>\n",
       "      <td>Male</td>\n",
       "      <td>30</td>\n",
       "    </tr>\n",
       "    <tr>\n",
       "      <th>1</th>\n",
       "      <td>Njeri</td>\n",
       "      <td>Female</td>\n",
       "      <td>24</td>\n",
       "    </tr>\n",
       "    <tr>\n",
       "      <th>2</th>\n",
       "      <td>Wambua</td>\n",
       "      <td>Female</td>\n",
       "      <td>35</td>\n",
       "    </tr>\n",
       "    <tr>\n",
       "      <th>3</th>\n",
       "      <td>Rashid</td>\n",
       "      <td>Male</td>\n",
       "      <td>42</td>\n",
       "    </tr>\n",
       "    <tr>\n",
       "      <th>4</th>\n",
       "      <td>Lulu</td>\n",
       "      <td>Female</td>\n",
       "      <td>29</td>\n",
       "    </tr>\n",
       "    <tr>\n",
       "      <th>5</th>\n",
       "      <td>Kipyegon</td>\n",
       "      <td>Male</td>\n",
       "      <td>19</td>\n",
       "    </tr>\n",
       "    <tr>\n",
       "      <th>6</th>\n",
       "      <td>Wanjala</td>\n",
       "      <td>Male</td>\n",
       "      <td>27</td>\n",
       "    </tr>\n",
       "    <tr>\n",
       "      <th>7</th>\n",
       "      <td>Betty</td>\n",
       "      <td>Female</td>\n",
       "      <td>49</td>\n",
       "    </tr>\n",
       "    <tr>\n",
       "      <th>8</th>\n",
       "      <td>Clare</td>\n",
       "      <td>Female</td>\n",
       "      <td>28</td>\n",
       "    </tr>\n",
       "    <tr>\n",
       "      <th>9</th>\n",
       "      <td>Didimus</td>\n",
       "      <td>Male</td>\n",
       "      <td>39</td>\n",
       "    </tr>\n",
       "  </tbody>\n",
       "</table>\n",
       "</div>"
      ],
      "text/plain": [
       "       name  gender  age\n",
       "0    Aloyce    Male   30\n",
       "1     Njeri  Female   24\n",
       "2    Wambua  Female   35\n",
       "3    Rashid    Male   42\n",
       "4      Lulu  Female   29\n",
       "5  Kipyegon    Male   19\n",
       "6   Wanjala    Male   27\n",
       "7     Betty  Female   49\n",
       "8     Clare  Female   28\n",
       "9   Didimus    Male   39"
      ]
     },
     "execution_count": 30,
     "metadata": {},
     "output_type": "execute_result"
    }
   ],
   "source": [
    "data = {\n",
    "    'name': ['Aloyce', 'Njeri', 'Wambua', 'Rashid', 'Lulu', 'Kipyegon', 'Wanjala', 'Betty', 'Clare', 'Didimus'],\n",
    "    'gender': ['Male', 'Female', 'Female', 'Male', 'Female', 'Male', 'Male', 'Female', 'Female', 'Male'],\n",
    "    'age': [30, 24, 35, 42, 29, 19, 27, 49, 28, 39]\n",
    "}\n",
    "\n",
    "df = pd.DataFrame(data=data)\n",
    "\n",
    "df"
   ]
  },
  {
   "cell_type": "code",
   "execution_count": 31,
   "id": "2a82629b",
   "metadata": {},
   "outputs": [
    {
     "data": {
      "text/html": [
       "<div>\n",
       "<style scoped>\n",
       "    .dataframe tbody tr th:only-of-type {\n",
       "        vertical-align: middle;\n",
       "    }\n",
       "\n",
       "    .dataframe tbody tr th {\n",
       "        vertical-align: top;\n",
       "    }\n",
       "\n",
       "    .dataframe thead th {\n",
       "        text-align: right;\n",
       "    }\n",
       "</style>\n",
       "<table border=\"1\" class=\"dataframe\">\n",
       "  <thead>\n",
       "    <tr style=\"text-align: right;\">\n",
       "      <th></th>\n",
       "      <th>name</th>\n",
       "      <th>gender</th>\n",
       "      <th>age</th>\n",
       "    </tr>\n",
       "  </thead>\n",
       "  <tbody>\n",
       "    <tr>\n",
       "      <th>0</th>\n",
       "      <td>Aloyce</td>\n",
       "      <td>Male</td>\n",
       "      <td>30</td>\n",
       "    </tr>\n",
       "    <tr>\n",
       "      <th>1</th>\n",
       "      <td>Njeri</td>\n",
       "      <td>Female</td>\n",
       "      <td>24</td>\n",
       "    </tr>\n",
       "    <tr>\n",
       "      <th>2</th>\n",
       "      <td>Wambua</td>\n",
       "      <td>Female</td>\n",
       "      <td>35</td>\n",
       "    </tr>\n",
       "    <tr>\n",
       "      <th>3</th>\n",
       "      <td>Rashid</td>\n",
       "      <td>Male</td>\n",
       "      <td>42</td>\n",
       "    </tr>\n",
       "    <tr>\n",
       "      <th>4</th>\n",
       "      <td>Lulu</td>\n",
       "      <td>Female</td>\n",
       "      <td>29</td>\n",
       "    </tr>\n",
       "  </tbody>\n",
       "</table>\n",
       "</div>"
      ],
      "text/plain": [
       "     name  gender  age\n",
       "0  Aloyce    Male   30\n",
       "1   Njeri  Female   24\n",
       "2  Wambua  Female   35\n",
       "3  Rashid    Male   42\n",
       "4    Lulu  Female   29"
      ]
     },
     "execution_count": 31,
     "metadata": {},
     "output_type": "execute_result"
    }
   ],
   "source": [
    "# Using head() function to select the first 5 rows\n",
    "df.head() # default is 5 rows but you can pass argument indicating the number of rows"
   ]
  },
  {
   "cell_type": "code",
   "execution_count": 32,
   "id": "045753f4",
   "metadata": {},
   "outputs": [
    {
     "data": {
      "text/html": [
       "<div>\n",
       "<style scoped>\n",
       "    .dataframe tbody tr th:only-of-type {\n",
       "        vertical-align: middle;\n",
       "    }\n",
       "\n",
       "    .dataframe tbody tr th {\n",
       "        vertical-align: top;\n",
       "    }\n",
       "\n",
       "    .dataframe thead th {\n",
       "        text-align: right;\n",
       "    }\n",
       "</style>\n",
       "<table border=\"1\" class=\"dataframe\">\n",
       "  <thead>\n",
       "    <tr style=\"text-align: right;\">\n",
       "      <th></th>\n",
       "      <th>name</th>\n",
       "      <th>gender</th>\n",
       "      <th>age</th>\n",
       "    </tr>\n",
       "  </thead>\n",
       "  <tbody>\n",
       "    <tr>\n",
       "      <th>0</th>\n",
       "      <td>Aloyce</td>\n",
       "      <td>Male</td>\n",
       "      <td>30</td>\n",
       "    </tr>\n",
       "    <tr>\n",
       "      <th>1</th>\n",
       "      <td>Njeri</td>\n",
       "      <td>Female</td>\n",
       "      <td>24</td>\n",
       "    </tr>\n",
       "    <tr>\n",
       "      <th>2</th>\n",
       "      <td>Wambua</td>\n",
       "      <td>Female</td>\n",
       "      <td>35</td>\n",
       "    </tr>\n",
       "    <tr>\n",
       "      <th>3</th>\n",
       "      <td>Rashid</td>\n",
       "      <td>Male</td>\n",
       "      <td>42</td>\n",
       "    </tr>\n",
       "    <tr>\n",
       "      <th>4</th>\n",
       "      <td>Lulu</td>\n",
       "      <td>Female</td>\n",
       "      <td>29</td>\n",
       "    </tr>\n",
       "    <tr>\n",
       "      <th>5</th>\n",
       "      <td>Kipyegon</td>\n",
       "      <td>Male</td>\n",
       "      <td>19</td>\n",
       "    </tr>\n",
       "    <tr>\n",
       "      <th>6</th>\n",
       "      <td>Wanjala</td>\n",
       "      <td>Male</td>\n",
       "      <td>27</td>\n",
       "    </tr>\n",
       "    <tr>\n",
       "      <th>7</th>\n",
       "      <td>Betty</td>\n",
       "      <td>Female</td>\n",
       "      <td>49</td>\n",
       "    </tr>\n",
       "    <tr>\n",
       "      <th>8</th>\n",
       "      <td>Clare</td>\n",
       "      <td>Female</td>\n",
       "      <td>28</td>\n",
       "    </tr>\n",
       "    <tr>\n",
       "      <th>9</th>\n",
       "      <td>Didimus</td>\n",
       "      <td>Male</td>\n",
       "      <td>39</td>\n",
       "    </tr>\n",
       "  </tbody>\n",
       "</table>\n",
       "</div>"
      ],
      "text/plain": [
       "       name  gender  age\n",
       "0    Aloyce    Male   30\n",
       "1     Njeri  Female   24\n",
       "2    Wambua  Female   35\n",
       "3    Rashid    Male   42\n",
       "4      Lulu  Female   29\n",
       "5  Kipyegon    Male   19\n",
       "6   Wanjala    Male   27\n",
       "7     Betty  Female   49\n",
       "8     Clare  Female   28\n",
       "9   Didimus    Male   39"
      ]
     },
     "execution_count": 32,
     "metadata": {},
     "output_type": "execute_result"
    }
   ],
   "source": [
    "df.head(10)"
   ]
  },
  {
   "cell_type": "code",
   "execution_count": 33,
   "id": "7816157a",
   "metadata": {},
   "outputs": [
    {
     "data": {
      "text/html": [
       "<div>\n",
       "<style scoped>\n",
       "    .dataframe tbody tr th:only-of-type {\n",
       "        vertical-align: middle;\n",
       "    }\n",
       "\n",
       "    .dataframe tbody tr th {\n",
       "        vertical-align: top;\n",
       "    }\n",
       "\n",
       "    .dataframe thead th {\n",
       "        text-align: right;\n",
       "    }\n",
       "</style>\n",
       "<table border=\"1\" class=\"dataframe\">\n",
       "  <thead>\n",
       "    <tr style=\"text-align: right;\">\n",
       "      <th></th>\n",
       "      <th>name</th>\n",
       "      <th>gender</th>\n",
       "      <th>age</th>\n",
       "    </tr>\n",
       "  </thead>\n",
       "  <tbody>\n",
       "    <tr>\n",
       "      <th>5</th>\n",
       "      <td>Kipyegon</td>\n",
       "      <td>Male</td>\n",
       "      <td>19</td>\n",
       "    </tr>\n",
       "    <tr>\n",
       "      <th>6</th>\n",
       "      <td>Wanjala</td>\n",
       "      <td>Male</td>\n",
       "      <td>27</td>\n",
       "    </tr>\n",
       "    <tr>\n",
       "      <th>7</th>\n",
       "      <td>Betty</td>\n",
       "      <td>Female</td>\n",
       "      <td>49</td>\n",
       "    </tr>\n",
       "    <tr>\n",
       "      <th>8</th>\n",
       "      <td>Clare</td>\n",
       "      <td>Female</td>\n",
       "      <td>28</td>\n",
       "    </tr>\n",
       "    <tr>\n",
       "      <th>9</th>\n",
       "      <td>Didimus</td>\n",
       "      <td>Male</td>\n",
       "      <td>39</td>\n",
       "    </tr>\n",
       "  </tbody>\n",
       "</table>\n",
       "</div>"
      ],
      "text/plain": [
       "       name  gender  age\n",
       "5  Kipyegon    Male   19\n",
       "6   Wanjala    Male   27\n",
       "7     Betty  Female   49\n",
       "8     Clare  Female   28\n",
       "9   Didimus    Male   39"
      ]
     },
     "execution_count": 33,
     "metadata": {},
     "output_type": "execute_result"
    }
   ],
   "source": [
    "# using tail() to display the last 5 rows\n",
    "df.tail()"
   ]
  },
  {
   "cell_type": "markdown",
   "id": "eb44aabb",
   "metadata": {},
   "source": [
    "### Column selection\n",
    "You can retrieve a column from a DataFrame by using the column's name between square brackets. (A Series object is returned.):"
   ]
  },
  {
   "cell_type": "code",
   "execution_count": 34,
   "id": "af5f6959",
   "metadata": {},
   "outputs": [
    {
     "data": {
      "text/plain": [
       "0      Aloyce\n",
       "1       Njeri\n",
       "2      Wambua\n",
       "3      Rashid\n",
       "4        Lulu\n",
       "5    Kipyegon\n",
       "6     Wanjala\n",
       "7       Betty\n",
       "8       Clare\n",
       "9     Didimus\n",
       "Name: name, dtype: object"
      ]
     },
     "execution_count": 34,
     "metadata": {},
     "output_type": "execute_result"
    }
   ],
   "source": [
    "df['name']"
   ]
  },
  {
   "cell_type": "markdown",
   "id": "8f3dad09",
   "metadata": {},
   "source": [
    "You can also use dot notation to retrieve a column (Series) from a DataFrame, but only if the column name is a valid Python variable name (e.g., no spaces):"
   ]
  },
  {
   "cell_type": "code",
   "execution_count": 36,
   "id": "4579d279",
   "metadata": {},
   "outputs": [
    {
     "data": {
      "text/plain": [
       "0      Aloyce\n",
       "1       Njeri\n",
       "2      Wambua\n",
       "3      Rashid\n",
       "4        Lulu\n",
       "5    Kipyegon\n",
       "6     Wanjala\n",
       "7       Betty\n",
       "8       Clare\n",
       "9     Didimus\n",
       "Name: name, dtype: object"
      ]
     },
     "execution_count": 36,
     "metadata": {},
     "output_type": "execute_result"
    }
   ],
   "source": [
    "df.name"
   ]
  },
  {
   "cell_type": "markdown",
   "id": "e6db5115",
   "metadata": {},
   "source": [
    "<div class=\"alert alert-block alert-success\">\n",
    "<b>Note:</b> Row selection syntax is used to select rows (e.g., df[:3]).\n",
    "    Passing the string name of a column selects columns (e.g., df[\"Age\"]). \n",
    "</div>"
   ]
  },
  {
   "cell_type": "code",
   "execution_count": 38,
   "id": "8b73b5f2",
   "metadata": {},
   "outputs": [
    {
     "name": "stdout",
     "output_type": "stream",
     "text": [
      "     name  gender  age\n",
      "0  Aloyce    Male   30\n",
      "1   Njeri  Female   24\n",
      "2  Wambua  Female   35\n",
      "0      Male\n",
      "1    Female\n",
      "2    Female\n",
      "3      Male\n",
      "4    Female\n",
      "5      Male\n",
      "6      Male\n",
      "7    Female\n",
      "8    Female\n",
      "9      Male\n",
      "Name: gender, dtype: object\n",
      "   age      name\n",
      "0   30    Aloyce\n",
      "1   24     Njeri\n",
      "2   35    Wambua\n",
      "3   42    Rashid\n",
      "4   29      Lulu\n",
      "5   19  Kipyegon\n",
      "6   27   Wanjala\n",
      "7   49     Betty\n",
      "8   28     Clare\n",
      "9   39   Didimus\n"
     ]
    }
   ],
   "source": [
    "print(df[:3])\n",
    "\n",
    "print(df['gender'])\n",
    "\n",
    "print(df[['age', 'name']])"
   ]
  }
 ],
 "metadata": {
  "kernelspec": {
   "display_name": ".venv",
   "language": "python",
   "name": "python3"
  },
  "language_info": {
   "codemirror_mode": {
    "name": "ipython",
    "version": 3
   },
   "file_extension": ".py",
   "mimetype": "text/x-python",
   "name": "python",
   "nbconvert_exporter": "python",
   "pygments_lexer": "ipython3",
   "version": "3.13.3"
  }
 },
 "nbformat": 4,
 "nbformat_minor": 5
}
