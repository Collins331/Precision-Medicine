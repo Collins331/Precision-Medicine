{
 "cells": [
  {
   "cell_type": "markdown",
   "id": "e2b68229",
   "metadata": {},
   "source": [
    "# Epigenetics\n",
    "Field of study focused in changes in DNA that do not involve alterations to the underlying sequence.\n",
    "\n",
    "It is dynamic and change substantially during development, aging, cancer and in response to environment exposure."
   ]
  },
  {
   "cell_type": "markdown",
   "id": "875c467e",
   "metadata": {},
   "source": [
    "**Whole Genome Bisulphite Sequencing data from 111 reference epigenomes**\n"
   ]
  },
  {
   "cell_type": "code",
   "execution_count": 1,
   "id": "62122438",
   "metadata": {},
   "outputs": [],
   "source": [
    "import sys\n",
    "import os\n",
    "# import pyathena\n",
    "import pandas as pd\n",
    "from pathlib import Path"
   ]
  },
  {
   "cell_type": "code",
   "execution_count": null,
   "id": "545fbef5",
   "metadata": {},
   "outputs": [],
   "source": []
  }
 ],
 "metadata": {
  "kernelspec": {
   "display_name": ".venv",
   "language": "python",
   "name": "python3"
  },
  "language_info": {
   "codemirror_mode": {
    "name": "ipython",
    "version": 3
   },
   "file_extension": ".py",
   "mimetype": "text/x-python",
   "name": "python",
   "nbconvert_exporter": "python",
   "pygments_lexer": "ipython3",
   "version": "3.13.3"
  }
 },
 "nbformat": 4,
 "nbformat_minor": 5
}
