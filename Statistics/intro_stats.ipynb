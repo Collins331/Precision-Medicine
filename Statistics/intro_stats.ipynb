{
 "cells": [
  {
   "cell_type": "markdown",
   "id": "3ac0d20a",
   "metadata": {},
   "source": [
    "# Central Tendency: Mean, Median, Mode"
   ]
  },
  {
   "cell_type": "markdown",
   "id": "ce44ec02",
   "metadata": {},
   "source": [
    "Using these measures (**`mean, median`, and `mode`**), we can summarize and get a basic underdstanding of our data. Although these measures of central tendency are limitated in the information they provide, they are an effective starting point for describing our data."
   ]
  },
  {
   "cell_type": "code",
   "execution_count": 31,
   "id": "bf109077",
   "metadata": {},
   "outputs": [],
   "source": [
    "import pandas as pd"
   ]
  },
  {
   "cell_type": "code",
   "execution_count": 32,
   "id": "75139c76",
   "metadata": {},
   "outputs": [
    {
     "data": {
      "text/html": [
       "<div>\n",
       "<style scoped>\n",
       "    .dataframe tbody tr th:only-of-type {\n",
       "        vertical-align: middle;\n",
       "    }\n",
       "\n",
       "    .dataframe tbody tr th {\n",
       "        vertical-align: top;\n",
       "    }\n",
       "\n",
       "    .dataframe thead th {\n",
       "        text-align: right;\n",
       "    }\n",
       "</style>\n",
       "<table border=\"1\" class=\"dataframe\">\n",
       "  <thead>\n",
       "    <tr style=\"text-align: right;\">\n",
       "      <th></th>\n",
       "      <th>points</th>\n",
       "    </tr>\n",
       "  </thead>\n",
       "  <tbody>\n",
       "    <tr>\n",
       "      <th>0</th>\n",
       "      <td>4</td>\n",
       "    </tr>\n",
       "    <tr>\n",
       "      <th>1</th>\n",
       "      <td>6</td>\n",
       "    </tr>\n",
       "    <tr>\n",
       "      <th>2</th>\n",
       "      <td>7</td>\n",
       "    </tr>\n",
       "    <tr>\n",
       "      <th>3</th>\n",
       "      <td>1</td>\n",
       "    </tr>\n",
       "    <tr>\n",
       "      <th>4</th>\n",
       "      <td>6</td>\n",
       "    </tr>\n",
       "    <tr>\n",
       "      <th>5</th>\n",
       "      <td>9</td>\n",
       "    </tr>\n",
       "    <tr>\n",
       "      <th>6</th>\n",
       "      <td>2</td>\n",
       "    </tr>\n",
       "    <tr>\n",
       "      <th>7</th>\n",
       "      <td>7</td>\n",
       "    </tr>\n",
       "    <tr>\n",
       "      <th>8</th>\n",
       "      <td>2</td>\n",
       "    </tr>\n",
       "    <tr>\n",
       "      <th>9</th>\n",
       "      <td>5</td>\n",
       "    </tr>\n",
       "    <tr>\n",
       "      <th>10</th>\n",
       "      <td>9</td>\n",
       "    </tr>\n",
       "    <tr>\n",
       "      <th>11</th>\n",
       "      <td>2</td>\n",
       "    </tr>\n",
       "    <tr>\n",
       "      <th>12</th>\n",
       "      <td>5</td>\n",
       "    </tr>\n",
       "    <tr>\n",
       "      <th>13</th>\n",
       "      <td>7</td>\n",
       "    </tr>\n",
       "    <tr>\n",
       "      <th>14</th>\n",
       "      <td>1</td>\n",
       "    </tr>\n",
       "    <tr>\n",
       "      <th>15</th>\n",
       "      <td>4</td>\n",
       "    </tr>\n",
       "    <tr>\n",
       "      <th>16</th>\n",
       "      <td>5</td>\n",
       "    </tr>\n",
       "    <tr>\n",
       "      <th>17</th>\n",
       "      <td>4</td>\n",
       "    </tr>\n",
       "    <tr>\n",
       "      <th>18</th>\n",
       "      <td>5</td>\n",
       "    </tr>\n",
       "    <tr>\n",
       "      <th>19</th>\n",
       "      <td>5</td>\n",
       "    </tr>\n",
       "    <tr>\n",
       "      <th>20</th>\n",
       "      <td>8</td>\n",
       "    </tr>\n",
       "  </tbody>\n",
       "</table>\n",
       "</div>"
      ],
      "text/plain": [
       "    points\n",
       "0        4\n",
       "1        6\n",
       "2        7\n",
       "3        1\n",
       "4        6\n",
       "5        9\n",
       "6        2\n",
       "7        7\n",
       "8        2\n",
       "9        5\n",
       "10       9\n",
       "11       2\n",
       "12       5\n",
       "13       7\n",
       "14       1\n",
       "15       4\n",
       "16       5\n",
       "17       4\n",
       "18       5\n",
       "19       5\n",
       "20       8"
      ]
     },
     "execution_count": 32,
     "metadata": {},
     "output_type": "execute_result"
    }
   ],
   "source": [
    "df = pd.DataFrame(data=[4, 6, 7, 1, 6, 9, 2, 7, 2, 5, 9, 2, 5, 7, 1, 4, 5,4,5,5,8], columns=[\"points\"])\n",
    "\n",
    "df"
   ]
  },
  {
   "cell_type": "markdown",
   "id": "8ddd958c",
   "metadata": {},
   "source": [
    "## Mean"
   ]
  },
  {
   "cell_type": "code",
   "execution_count": 33,
   "id": "6f4da55f",
   "metadata": {},
   "outputs": [
    {
     "data": {
      "text/plain": [
       "points    4.952381\n",
       "dtype: float64"
      ]
     },
     "execution_count": 33,
     "metadata": {},
     "output_type": "execute_result"
    }
   ],
   "source": [
    "# determine the mean of a column using `mean()` method\n",
    "df.mean()"
   ]
  },
  {
   "cell_type": "code",
   "execution_count": 34,
   "id": "ba4eb9c0",
   "metadata": {},
   "outputs": [
    {
     "data": {
      "text/plain": [
       "points    4.952381\n",
       "dtype: float64"
      ]
     },
     "execution_count": 34,
     "metadata": {},
     "output_type": "execute_result"
    }
   ],
   "source": [
    "# You can also determine the sum of the column and divide with the size of the dataframe/column\n",
    "mean = df.sum() / len(df['points'])\n",
    "mean"
   ]
  },
  {
   "cell_type": "markdown",
   "id": "9cda5770",
   "metadata": {},
   "source": [
    "### Median\n",
    "If our values are ordered (as the values in our dataset are), the **<mark>median</mark>** is the middle-most value if there are an odd number of values. If there are an even number of values, then we average the two center-most values. In our dataset, we have an even number of values so we will average the two center values ( 4 and 5) to attain a median value of **<mark>4.5</mark>**. This value is slightly different from our mean value, but is another way to describe the center of our data.\n",
    "\n",
    "The median is useful in that, unlike the mean, it is fairly unaffected by outliers."
   ]
  },
  {
   "cell_type": "code",
   "execution_count": 35,
   "id": "4c66668e",
   "metadata": {},
   "outputs": [
    {
     "data": {
      "text/plain": [
       "points    5.0\n",
       "dtype: float64"
      ]
     },
     "execution_count": 35,
     "metadata": {},
     "output_type": "execute_result"
    }
   ],
   "source": [
    "# You can determine the median using the `median()` method\n",
    "df.median()"
   ]
  },
  {
   "cell_type": "markdown",
   "id": "bc29ee9d",
   "metadata": {},
   "source": [
    "## Mode\n",
    "The **<mark>mode</mark>** is the most frequently occurring value or set of values. If any values are tied in terms of their frequency, then those values will be reported as modes together, and the dataset is said to be bimodal or multimodal. It's most useful when your data is repetitive and you want to identify which values occur most frequently. For our dataset, the most frequently occuring value is **<mark>5</mark>**.\n",
    "\n",
    "Our mode value is a little different from both the mean (4.0) and median (4.5) values, but can also be used to describe the central tendency of a dataset."
   ]
  },
  {
   "cell_type": "code",
   "execution_count": 36,
   "id": "d37cd415",
   "metadata": {},
   "outputs": [
    {
     "data": {
      "text/plain": [
       "np.int64(5)"
      ]
     },
     "execution_count": 36,
     "metadata": {},
     "output_type": "execute_result"
    }
   ],
   "source": [
    "df['points'].mode()[0]"
   ]
  },
  {
   "cell_type": "markdown",
   "id": "9e10b997",
   "metadata": {},
   "source": [
    "# <p style=\"text-align: center;\">Comparing mean, median, and mode</p>"
   ]
  },
  {
   "cell_type": "markdown",
   "id": "bf2dcd16",
   "metadata": {},
   "source": [
    "If our data is normally distributed with a bell-shaped curve, then the **mean**, **median** and **mode** are nearly identical.\n",
    "\n",
    "<img src=\"./images/normal.png\"/>"
   ]
  },
  {
   "cell_type": "markdown",
   "id": "6d89e1b8",
   "metadata": {},
   "source": [
    "However, if there are extreme outliers (a value that is much higher or lower than the rest of the values), they will cause the **mean** to shift significantly in the direction of the outliers, whereas the **median** is fairly unaffected. \n",
    "\n",
    "<div class=\"alert alert-block alert-warning\">\n",
    "    <b>Alert:</b> When the <mark>mean</mark> and <mark>median</mark> have a wide difference between them, that means the data is skewed and there are outliers present.\n",
    "</div>\n",
    "\n",
    "<img src='./images/skewed.png'>\n"
   ]
  }
 ],
 "metadata": {
  "kernelspec": {
   "display_name": ".venv",
   "language": "python",
   "name": "python3"
  },
  "language_info": {
   "codemirror_mode": {
    "name": "ipython",
    "version": 3
   },
   "file_extension": ".py",
   "mimetype": "text/x-python",
   "name": "python",
   "nbconvert_exporter": "python",
   "pygments_lexer": "ipython3",
   "version": "3.13.3"
  }
 },
 "nbformat": 4,
 "nbformat_minor": 5
}
