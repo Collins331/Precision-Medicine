{
 "cells": [
  {
   "cell_type": "markdown",
   "id": "d64d06a2",
   "metadata": {},
   "source": [
    "# Standard Deviation\n",
    "An important characteristic of datasets is how much variability exists among individual samples. Without a measure of variability, you can’t effectively compare two datasets. \n",
    "\n",
    "For example, if one dataset consists of the values <mark>[99, 100, 101]</mark>, and another dataset consists of the values <mark>[0, 100, 200]</mark>, they both have the same mean and median values of 100, yet they have very different amounts of variability. There is a large amount of variability in the second dataset compared to the first. \n",
    "\n",
    "The variability is often a defining characteristic of a dataset. The **`standard deviation`** is perhaps the most informative and certainly the most widely used measure of a dataset's variability.  Let's look at how it's calculated."
   ]
  },
  {
   "cell_type": "markdown",
   "id": "e3ad4252",
   "metadata": {},
   "source": [
    "\n",
    "The formula for the **`standard deviation`** of a dataset is:  \n",
    "\n",
    "\n",
    "$$\\Large\\sqrt[]{\\frac {\\Sigma (x_{i}-\\bar{x})^{2}}{n-1} }$$\n",
    "\n",
    "_Let's walk through the above formula and summarize what we've discussed: The numerator is simply the sum of the squared distance that each value is from the mean. We then divide that sum by n-1 (we'll assume that the data is a sample from larger a population) to get the average squared distance or deviation from the mean. Finally, because we squared the deviations from the mean, we'll now take the square root of the calculated quantity to undo the squaring and put everything back into the original terms._"
   ]
  },
  {
   "cell_type": "code",
   "execution_count": 1,
   "id": "e6e9f9cd",
   "metadata": {},
   "outputs": [],
   "source": [
    "import pandas as pd"
   ]
  },
  {
   "cell_type": "code",
   "execution_count": 2,
   "id": "1d769959",
   "metadata": {},
   "outputs": [],
   "source": [
    "data = [3, 5, 8, 2, 5, 9, 6, 3, 5, 7]\n",
    "df = pd.DataFrame(data, columns=['nums'])"
   ]
  },
  {
   "cell_type": "code",
   "execution_count": 3,
   "id": "f0ef2435",
   "metadata": {},
   "outputs": [
    {
     "data": {
      "text/plain": [
       "np.float64(2.2632326929023945)"
      ]
     },
     "execution_count": 3,
     "metadata": {},
     "output_type": "execute_result"
    }
   ],
   "source": [
    "# Determining standard deviation\n",
    "df['nums'].std()"
   ]
  },
  {
   "cell_type": "markdown",
   "id": "c059be2f",
   "metadata": {},
   "source": [
    "<div class=\"alert alert-block alert-success\">\n",
    "    <b>Success:</b> The <b>mean</b> is interpreted as the expected value, and the <b>standard deviation</b> can be interpreted as the expected range of values around the mean.\n",
    "</div>"
   ]
  }
 ],
 "metadata": {
  "kernelspec": {
   "display_name": ".venv",
   "language": "python",
   "name": "python3"
  },
  "language_info": {
   "codemirror_mode": {
    "name": "ipython",
    "version": 3
   },
   "file_extension": ".py",
   "mimetype": "text/x-python",
   "name": "python",
   "nbconvert_exporter": "python",
   "pygments_lexer": "ipython3",
   "version": "3.13.3"
  }
 },
 "nbformat": 4,
 "nbformat_minor": 5
}
