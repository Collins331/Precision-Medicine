{
 "cells": [
  {
   "cell_type": "markdown",
   "id": "e9b15d17",
   "metadata": {},
   "source": [
    "# Normalization\n",
    "<mark>**Normalization**</mark>, in the **_general sense_**, refers to scaling our numeric columns to bring them into the **same terms** so that they fall within a smaller and standard range of values, making it easier to compare them. \n",
    "\n",
    "This is useful because data variables are typically measured in varied units with varied magnitudes. For example, a patient's age is measured in terms of years while heart rate is measured in terms of beats per minute. These variables are measured in completely different terms which makes it difficult to make a comparison as to which may be better or worse than the other.\n",
    "\n",
    "However, normalization, in the **_specific sense_**, refers to scaling variables so that their values fall strictly between 0 and 1, making it easier to compare them. This is also known as min-max scaling."
   ]
  },
  {
   "cell_type": "markdown",
   "id": "b057e76f",
   "metadata": {
    "vscode": {
     "languageId": "plaintext"
    }
   },
   "source": [
    "$$\\large\\ normalization = \\frac{X-X_{min}}{X_{max}-X_{min}}$$"
   ]
  },
  {
   "cell_type": "markdown",
   "id": "3e904cc3",
   "metadata": {},
   "source": [
    "To normalize the values in the age column below, we first need to identify the minimum and maximum values.\n",
    "\n",
    "<img src='./images/n1.png'>\n",
    "\n"
   ]
  },
  {
   "cell_type": "markdown",
   "id": "7e5dffc4",
   "metadata": {},
   "source": [
    "We then will need to calculate the difference between the maximum and minimum values (known as the <mark>range</mark>). In this case (74 - 29), the max-min difference is **45**. This becomes the denominator for our scaling.\n",
    "\n",
    "<img src='./images/n2.png'>"
   ]
  },
  {
   "cell_type": "markdown",
   "id": "6dbfd30e",
   "metadata": {},
   "source": [
    "Now, let's try scaling the first age in the column. We will take 41 and subtract the minimum age from it.\n",
    "\n",
    "<img src='./images/n3.png'>\n",
    "\n",
    "That's 41 - 29 which yields 12. So to scale the first age, we will divide 12 by 45 (the max-min difference calculated above). The scaled age would be **.27**.\n",
    "\n",
    "<img src='./images/n4.png'>\n",
    "\n"
   ]
  },
  {
   "cell_type": "markdown",
   "id": "44c1804d",
   "metadata": {},
   "source": [
    "Following is a normalized version of the age column where all values are scaled to be between 0 and 1:\n",
    "\n",
    "<img src='./images/n5.png'>\n",
    "\n",
    "\n",
    "Normalization conveys the proportion of the range, from min to max, that is covered by a given value within a column. So, in our example, from 29 (min age) to 74 (max age), each age value will cover some proportion of that range, and that is its normalized value.\n",
    "\n",
    "<img src='./images/n6.png'>"
   ]
  },
  {
   "cell_type": "markdown",
   "id": "6966c066",
   "metadata": {
    "vscode": {
     "languageId": "plaintext"
    }
   },
   "source": [
    "## Normalizing a sample heart disease dataset\n",
    "\n",
    "In the sample dataset below, \"age\", cholesterol (\"chol\"), and max heart rate (\"max_hr\") are all measured in different units and have different magnitudes and ranges of values. Let's <mark>**normalize**</mark> the dataset. "
   ]
  },
  {
   "cell_type": "code",
   "execution_count": 1,
   "id": "8c2a79ef",
   "metadata": {},
   "outputs": [],
   "source": [
    "import pandas as pd"
   ]
  },
  {
   "cell_type": "code",
   "execution_count": 3,
   "id": "26b7465a",
   "metadata": {},
   "outputs": [
    {
     "data": {
      "text/html": [
       "<div>\n",
       "<style scoped>\n",
       "    .dataframe tbody tr th:only-of-type {\n",
       "        vertical-align: middle;\n",
       "    }\n",
       "\n",
       "    .dataframe tbody tr th {\n",
       "        vertical-align: top;\n",
       "    }\n",
       "\n",
       "    .dataframe thead th {\n",
       "        text-align: right;\n",
       "    }\n",
       "</style>\n",
       "<table border=\"1\" class=\"dataframe\">\n",
       "  <thead>\n",
       "    <tr style=\"text-align: right;\">\n",
       "      <th></th>\n",
       "      <th>age</th>\n",
       "      <th>chol</th>\n",
       "      <th>max_hr</th>\n",
       "    </tr>\n",
       "  </thead>\n",
       "  <tbody>\n",
       "    <tr>\n",
       "      <th>0</th>\n",
       "      <td>63</td>\n",
       "      <td>233</td>\n",
       "      <td>150</td>\n",
       "    </tr>\n",
       "    <tr>\n",
       "      <th>1</th>\n",
       "      <td>37</td>\n",
       "      <td>250</td>\n",
       "      <td>187</td>\n",
       "    </tr>\n",
       "    <tr>\n",
       "      <th>2</th>\n",
       "      <td>41</td>\n",
       "      <td>204</td>\n",
       "      <td>172</td>\n",
       "    </tr>\n",
       "    <tr>\n",
       "      <th>3</th>\n",
       "      <td>56</td>\n",
       "      <td>236</td>\n",
       "      <td>178</td>\n",
       "    </tr>\n",
       "    <tr>\n",
       "      <th>4</th>\n",
       "      <td>57</td>\n",
       "      <td>354</td>\n",
       "      <td>163</td>\n",
       "    </tr>\n",
       "    <tr>\n",
       "      <th>...</th>\n",
       "      <td>...</td>\n",
       "      <td>...</td>\n",
       "      <td>...</td>\n",
       "    </tr>\n",
       "    <tr>\n",
       "      <th>298</th>\n",
       "      <td>57</td>\n",
       "      <td>241</td>\n",
       "      <td>123</td>\n",
       "    </tr>\n",
       "    <tr>\n",
       "      <th>299</th>\n",
       "      <td>45</td>\n",
       "      <td>264</td>\n",
       "      <td>132</td>\n",
       "    </tr>\n",
       "    <tr>\n",
       "      <th>300</th>\n",
       "      <td>68</td>\n",
       "      <td>193</td>\n",
       "      <td>141</td>\n",
       "    </tr>\n",
       "    <tr>\n",
       "      <th>301</th>\n",
       "      <td>57</td>\n",
       "      <td>131</td>\n",
       "      <td>115</td>\n",
       "    </tr>\n",
       "    <tr>\n",
       "      <th>302</th>\n",
       "      <td>57</td>\n",
       "      <td>236</td>\n",
       "      <td>174</td>\n",
       "    </tr>\n",
       "  </tbody>\n",
       "</table>\n",
       "<p>303 rows × 3 columns</p>\n",
       "</div>"
      ],
      "text/plain": [
       "     age  chol  max_hr\n",
       "0     63   233     150\n",
       "1     37   250     187\n",
       "2     41   204     172\n",
       "3     56   236     178\n",
       "4     57   354     163\n",
       "..   ...   ...     ...\n",
       "298   57   241     123\n",
       "299   45   264     132\n",
       "300   68   193     141\n",
       "301   57   131     115\n",
       "302   57   236     174\n",
       "\n",
       "[303 rows x 3 columns]"
      ]
     },
     "execution_count": 3,
     "metadata": {},
     "output_type": "execute_result"
    }
   ],
   "source": [
    "df = pd.read_csv('./heart_disease.csv', usecols=[0, 4, 5])\n",
    "\n",
    "df"
   ]
  },
  {
   "cell_type": "markdown",
   "id": "455d062c",
   "metadata": {},
   "source": [
    "## Normalized dataset will be:"
   ]
  },
  {
   "cell_type": "code",
   "execution_count": 4,
   "id": "29abdc0e",
   "metadata": {},
   "outputs": [
    {
     "data": {
      "text/html": [
       "<div>\n",
       "<style scoped>\n",
       "    .dataframe tbody tr th:only-of-type {\n",
       "        vertical-align: middle;\n",
       "    }\n",
       "\n",
       "    .dataframe tbody tr th {\n",
       "        vertical-align: top;\n",
       "    }\n",
       "\n",
       "    .dataframe thead th {\n",
       "        text-align: right;\n",
       "    }\n",
       "</style>\n",
       "<table border=\"1\" class=\"dataframe\">\n",
       "  <thead>\n",
       "    <tr style=\"text-align: right;\">\n",
       "      <th></th>\n",
       "      <th>age</th>\n",
       "      <th>chol</th>\n",
       "      <th>max_hr</th>\n",
       "    </tr>\n",
       "  </thead>\n",
       "  <tbody>\n",
       "    <tr>\n",
       "      <th>0</th>\n",
       "      <td>0.708333</td>\n",
       "      <td>0.244292</td>\n",
       "      <td>0.603053</td>\n",
       "    </tr>\n",
       "    <tr>\n",
       "      <th>1</th>\n",
       "      <td>0.166667</td>\n",
       "      <td>0.283105</td>\n",
       "      <td>0.885496</td>\n",
       "    </tr>\n",
       "    <tr>\n",
       "      <th>2</th>\n",
       "      <td>0.250000</td>\n",
       "      <td>0.178082</td>\n",
       "      <td>0.770992</td>\n",
       "    </tr>\n",
       "    <tr>\n",
       "      <th>3</th>\n",
       "      <td>0.562500</td>\n",
       "      <td>0.251142</td>\n",
       "      <td>0.816794</td>\n",
       "    </tr>\n",
       "    <tr>\n",
       "      <th>4</th>\n",
       "      <td>0.583333</td>\n",
       "      <td>0.520548</td>\n",
       "      <td>0.702290</td>\n",
       "    </tr>\n",
       "    <tr>\n",
       "      <th>...</th>\n",
       "      <td>...</td>\n",
       "      <td>...</td>\n",
       "      <td>...</td>\n",
       "    </tr>\n",
       "    <tr>\n",
       "      <th>298</th>\n",
       "      <td>0.583333</td>\n",
       "      <td>0.262557</td>\n",
       "      <td>0.396947</td>\n",
       "    </tr>\n",
       "    <tr>\n",
       "      <th>299</th>\n",
       "      <td>0.333333</td>\n",
       "      <td>0.315068</td>\n",
       "      <td>0.465649</td>\n",
       "    </tr>\n",
       "    <tr>\n",
       "      <th>300</th>\n",
       "      <td>0.812500</td>\n",
       "      <td>0.152968</td>\n",
       "      <td>0.534351</td>\n",
       "    </tr>\n",
       "    <tr>\n",
       "      <th>301</th>\n",
       "      <td>0.583333</td>\n",
       "      <td>0.011416</td>\n",
       "      <td>0.335878</td>\n",
       "    </tr>\n",
       "    <tr>\n",
       "      <th>302</th>\n",
       "      <td>0.583333</td>\n",
       "      <td>0.251142</td>\n",
       "      <td>0.786260</td>\n",
       "    </tr>\n",
       "  </tbody>\n",
       "</table>\n",
       "<p>303 rows × 3 columns</p>\n",
       "</div>"
      ],
      "text/plain": [
       "          age      chol    max_hr\n",
       "0    0.708333  0.244292  0.603053\n",
       "1    0.166667  0.283105  0.885496\n",
       "2    0.250000  0.178082  0.770992\n",
       "3    0.562500  0.251142  0.816794\n",
       "4    0.583333  0.520548  0.702290\n",
       "..        ...       ...       ...\n",
       "298  0.583333  0.262557  0.396947\n",
       "299  0.333333  0.315068  0.465649\n",
       "300  0.812500  0.152968  0.534351\n",
       "301  0.583333  0.011416  0.335878\n",
       "302  0.583333  0.251142  0.786260\n",
       "\n",
       "[303 rows x 3 columns]"
      ]
     },
     "execution_count": 4,
     "metadata": {},
     "output_type": "execute_result"
    }
   ],
   "source": [
    "(df - df.min())/ (df.max() - df.min())"
   ]
  },
  {
   "cell_type": "markdown",
   "id": "5bfad359",
   "metadata": {},
   "source": [
    "It should now be clear why normalizing values is useful. It's an effective way of comparing values that are measured in different units and it scales values down into a standard range. \n",
    "\n",
    "<div class=\"alert alert-block alert-success\">\n",
    "<b>Tip: </b>Another scaling technique that is used to transform variables so that they are in similar terms is called <b>standardization</b>. This technique scales values so that they are in terms of how far they are from their respective means (in terms of standard deviations). Rather than falling between 0 and 1 as normalization does, standardized values are scaled to fall typically between -3 and 3 (see Z-score).\n",
    "</div>"
   ]
  }
 ],
 "metadata": {
  "kernelspec": {
   "display_name": ".venv",
   "language": "python",
   "name": "python3"
  },
  "language_info": {
   "codemirror_mode": {
    "name": "ipython",
    "version": 3
   },
   "file_extension": ".py",
   "mimetype": "text/x-python",
   "name": "python",
   "nbconvert_exporter": "python",
   "pygments_lexer": "ipython3",
   "version": "3.13.3"
  }
 },
 "nbformat": 4,
 "nbformat_minor": 5
}
